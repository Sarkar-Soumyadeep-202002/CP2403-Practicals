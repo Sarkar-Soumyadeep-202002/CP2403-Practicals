{
 "cells": [
  {
   "cell_type": "markdown",
   "metadata": {},
   "source": [
    "# First Name: Soumyadeep\n",
    "# Last Name: Sarkar"
   ]
  },
  {
   "cell_type": "code",
   "execution_count": 1,
   "metadata": {},
   "outputs": [],
   "source": [
    "import pandas as pd\n",
    "import numpy as np\n",
    "import seaborn as sns\n",
    "import scipy\n",
    "import matplotlib.pyplot as plt\n",
    "import statsmodels.formula.api as smf"
   ]
  },
  {
   "cell_type": "code",
   "execution_count": 2,
   "metadata": {},
   "outputs": [
    {
     "data": {
      "text/html": [
       "<div>\n",
       "<style scoped>\n",
       "    .dataframe tbody tr th:only-of-type {\n",
       "        vertical-align: middle;\n",
       "    }\n",
       "\n",
       "    .dataframe tbody tr th {\n",
       "        vertical-align: top;\n",
       "    }\n",
       "\n",
       "    .dataframe thead th {\n",
       "        text-align: right;\n",
       "    }\n",
       "</style>\n",
       "<table border=\"1\" class=\"dataframe\">\n",
       "  <thead>\n",
       "    <tr style=\"text-align: right;\">\n",
       "      <th></th>\n",
       "      <th>country</th>\n",
       "      <th>incomeperperson</th>\n",
       "      <th>alcconsumption</th>\n",
       "      <th>armedforcesrate</th>\n",
       "      <th>breastcancerper100th</th>\n",
       "      <th>co2emissions</th>\n",
       "      <th>femaleemployrate</th>\n",
       "      <th>hivrate</th>\n",
       "      <th>internetuserate</th>\n",
       "      <th>lifeexpectancy</th>\n",
       "      <th>oilperperson</th>\n",
       "      <th>polityscore</th>\n",
       "      <th>relectricperperson</th>\n",
       "      <th>suicideper100th</th>\n",
       "      <th>employrate</th>\n",
       "      <th>urbanrate</th>\n",
       "    </tr>\n",
       "  </thead>\n",
       "  <tbody>\n",
       "    <tr>\n",
       "      <th>0</th>\n",
       "      <td>Afghanistan</td>\n",
       "      <td></td>\n",
       "      <td>.03</td>\n",
       "      <td>.5696534</td>\n",
       "      <td>26.8</td>\n",
       "      <td>75944000</td>\n",
       "      <td>25.6000003814697</td>\n",
       "      <td></td>\n",
       "      <td>3.65412162280064</td>\n",
       "      <td>48.673</td>\n",
       "      <td></td>\n",
       "      <td>0</td>\n",
       "      <td></td>\n",
       "      <td>6.68438529968262</td>\n",
       "      <td>55.7000007629394</td>\n",
       "      <td>24.04</td>\n",
       "    </tr>\n",
       "    <tr>\n",
       "      <th>1</th>\n",
       "      <td>Albania</td>\n",
       "      <td>1914.99655094922</td>\n",
       "      <td>7.29</td>\n",
       "      <td>1.0247361</td>\n",
       "      <td>57.4</td>\n",
       "      <td>223747333.333333</td>\n",
       "      <td>42.0999984741211</td>\n",
       "      <td></td>\n",
       "      <td>44.9899469578783</td>\n",
       "      <td>76.918</td>\n",
       "      <td></td>\n",
       "      <td>9</td>\n",
       "      <td>636.341383366604</td>\n",
       "      <td>7.69932985305786</td>\n",
       "      <td>51.4000015258789</td>\n",
       "      <td>46.72</td>\n",
       "    </tr>\n",
       "    <tr>\n",
       "      <th>2</th>\n",
       "      <td>Algeria</td>\n",
       "      <td>2231.99333515006</td>\n",
       "      <td>.69</td>\n",
       "      <td>2.306817</td>\n",
       "      <td>23.5</td>\n",
       "      <td>2932108666.66667</td>\n",
       "      <td>31.7000007629394</td>\n",
       "      <td>.1</td>\n",
       "      <td>12.5000733055148</td>\n",
       "      <td>73.131</td>\n",
       "      <td>.42009452521537</td>\n",
       "      <td>2</td>\n",
       "      <td>590.509814347428</td>\n",
       "      <td>4.8487696647644</td>\n",
       "      <td>50.5</td>\n",
       "      <td>65.22</td>\n",
       "    </tr>\n",
       "    <tr>\n",
       "      <th>3</th>\n",
       "      <td>Andorra</td>\n",
       "      <td>21943.3398976022</td>\n",
       "      <td>10.17</td>\n",
       "      <td></td>\n",
       "      <td></td>\n",
       "      <td></td>\n",
       "      <td></td>\n",
       "      <td></td>\n",
       "      <td>81</td>\n",
       "      <td></td>\n",
       "      <td></td>\n",
       "      <td></td>\n",
       "      <td></td>\n",
       "      <td>5.36217880249023</td>\n",
       "      <td></td>\n",
       "      <td>88.92</td>\n",
       "    </tr>\n",
       "    <tr>\n",
       "      <th>4</th>\n",
       "      <td>Angola</td>\n",
       "      <td>1381.00426770244</td>\n",
       "      <td>5.57</td>\n",
       "      <td>1.4613288</td>\n",
       "      <td>23.1</td>\n",
       "      <td>248358000</td>\n",
       "      <td>69.4000015258789</td>\n",
       "      <td>2</td>\n",
       "      <td>9.99995388324075</td>\n",
       "      <td>51.093</td>\n",
       "      <td></td>\n",
       "      <td>-2</td>\n",
       "      <td>172.999227388199</td>\n",
       "      <td>14.5546770095825</td>\n",
       "      <td>75.6999969482422</td>\n",
       "      <td>56.7</td>\n",
       "    </tr>\n",
       "  </tbody>\n",
       "</table>\n",
       "</div>"
      ],
      "text/plain": [
       "       country   incomeperperson alcconsumption armedforcesrate  \\\n",
       "0  Afghanistan                              .03        .5696534   \n",
       "1      Albania  1914.99655094922           7.29       1.0247361   \n",
       "2      Algeria  2231.99333515006            .69        2.306817   \n",
       "3      Andorra  21943.3398976022          10.17                   \n",
       "4       Angola  1381.00426770244           5.57       1.4613288   \n",
       "\n",
       "  breastcancerper100th      co2emissions  femaleemployrate hivrate  \\\n",
       "0                 26.8          75944000  25.6000003814697           \n",
       "1                 57.4  223747333.333333  42.0999984741211           \n",
       "2                 23.5  2932108666.66667  31.7000007629394      .1   \n",
       "3                                                                    \n",
       "4                 23.1         248358000  69.4000015258789       2   \n",
       "\n",
       "    internetuserate lifeexpectancy     oilperperson polityscore  \\\n",
       "0  3.65412162280064         48.673                            0   \n",
       "1  44.9899469578783         76.918                            9   \n",
       "2  12.5000733055148         73.131  .42009452521537           2   \n",
       "3                81                                               \n",
       "4  9.99995388324075         51.093                           -2   \n",
       "\n",
       "  relectricperperson   suicideper100th        employrate urbanrate  \n",
       "0                     6.68438529968262  55.7000007629394     24.04  \n",
       "1   636.341383366604  7.69932985305786  51.4000015258789     46.72  \n",
       "2   590.509814347428   4.8487696647644              50.5     65.22  \n",
       "3                     5.36217880249023                       88.92  \n",
       "4   172.999227388199  14.5546770095825  75.6999969482422      56.7  "
      ]
     },
     "execution_count": 2,
     "metadata": {},
     "output_type": "execute_result"
    }
   ],
   "source": [
    "pd.set_option('display.float_format', lambda x:'%.2f'%x)\n",
    "\n",
    "gapminder = pd.read_csv('gapminder.csv', low_memory=False) # Read data from the csv file.\n",
    "gapminder.head()"
   ]
  },
  {
   "cell_type": "code",
   "execution_count": 3,
   "metadata": {},
   "outputs": [],
   "source": [
    "#setting variables you will be working with to numeric\n",
    "gapminder['oilperperson'] = pd.to_numeric(gapminder['oilperperson'],errors='coerce')\n",
    "gapminder['relectricperperson'] = pd.to_numeric(gapminder['relectricperperson'],errors='coerce')\n",
    "gapminder['co2emissions'] = pd.to_numeric(gapminder['co2emissions'],errors='coerce')"
   ]
  },
  {
   "cell_type": "code",
   "execution_count": 4,
   "metadata": {},
   "outputs": [],
   "source": [
    "gapminder_clean=gapminder.dropna()"
   ]
  },
  {
   "cell_type": "markdown",
   "metadata": {},
   "source": [
    "# Correlation - Scenario 1"
   ]
  },
  {
   "cell_type": "markdown",
   "metadata": {},
   "source": [
    "# Scatter plot to show association between relectricperperson (x) and oilperperson (y)"
   ]
  },
  {
   "cell_type": "code",
   "execution_count": null,
   "metadata": {
    "collapsed": true,
    "jupyter": {
     "outputs_hidden": true
    }
   },
   "outputs": [],
   "source": [
    "# hint lecture cell 5\n",
    "%matplotlib inline\n",
    "plt.figure()\n",
    "scat1 = sns.regplot(x=\"relectricperperson\", y=\"oilperperson\", fit_reg=False, data=gapminder)\n",
    "plt.xlabel('Electrcity Use Per Person') # Define the x-axis of the plot.\n",
    "plt.ylabel('Oil Use Per Person') # Define the y-axis of the plot.\n",
    "plt.title('Scatterplot for the Association Between Electrcity Use Per Person' + '\\n' + 'and Oil Use Per Person')"
   ]
  },
  {
   "cell_type": "markdown",
   "metadata": {},
   "source": [
    "# Pearson correlation - relectricperperson (x) and oilperperson (y)"
   ]
  },
  {
   "cell_type": "code",
   "execution_count": null,
   "metadata": {
    "collapsed": true,
    "jupyter": {
     "outputs_hidden": true
    }
   },
   "outputs": [],
   "source": [
    "# hint lecture cell 6\n",
    "print ('association between relectricperperson and oilperperson')\n",
    "print () #pearson correlation"
   ]
  },
  {
   "cell_type": "markdown",
   "metadata": {},
   "source": [
    "# Correlation - Scenario 2"
   ]
  },
  {
   "cell_type": "markdown",
   "metadata": {},
   "source": [
    "# Scatter plot to show association between co2emissions (x) and oilperperson (y)"
   ]
  },
  {
   "cell_type": "code",
   "execution_count": null,
   "metadata": {
    "collapsed": true,
    "jupyter": {
     "outputs_hidden": true
    }
   },
   "outputs": [],
   "source": [
    "# hint lecture cell 7\n",
    "%matplotlib inline\n",
    "plt.figure()\n",
    "scat2 = sns.regplot(x=\"co2emissions\", y=\"oilperperson\", fit_reg = False, data=gapminder)\n",
    "plt.xlabel('CO2 Emissions') # Define the x-axis of the plot.\n",
    "plt.ylabel('Oil Use Per Person') # Define the y-axis of the plot.\n",
    "plt.title('Scatterplot for the Association' + '\\n' + 'CO2 Emission and Oil Use Per Person')"
   ]
  },
  {
   "cell_type": "markdown",
   "metadata": {},
   "source": [
    "# Pearson correlation - co2emissions (x) and oilperperson (y)"
   ]
  },
  {
   "cell_type": "code",
   "execution_count": null,
   "metadata": {
    "collapsed": true,
    "jupyter": {
     "outputs_hidden": true
    }
   },
   "outputs": [],
   "source": [
    "# hint lecture cell 8\n",
    "print ('association between co2emissions and oilperperson')\n",
    "print () #pearson correlation"
   ]
  },
  {
   "cell_type": "markdown",
   "metadata": {},
   "source": [
    "# Regression - Scenario 3"
   ]
  },
  {
   "cell_type": "markdown",
   "metadata": {},
   "source": [
    "# Scatter plot with regression to show relationship between relectricperperson (x) and oilperperson (y) - with regression line"
   ]
  },
  {
   "cell_type": "code",
   "execution_count": null,
   "metadata": {
    "collapsed": true,
    "jupyter": {
     "outputs_hidden": true
    }
   },
   "outputs": [],
   "source": [
    "# hint lecture cell 9\n",
    "%matplotlib inline\n",
    "scat1 = sns.regplot(x=\"relectricperperson\", y=\"oilperperson\", fit_reg = False, data=gapminder)\n",
    "plt.xlabel('Electricity Use Per Person') # Define the x-axis of the plot.\n",
    "plt.ylabel('Oil Use Per Person') # Define the y-axis of the plot.\n",
    "plt.title('Scatterplot for the Association Between Electricity Use Per Person' + '\\n' + 'and Oil Use Per Person')"
   ]
  },
  {
   "cell_type": "markdown",
   "metadata": {},
   "source": [
    "# Regression analysis to show association between relectricperperson (x) and oilperperson (y)"
   ]
  },
  {
   "cell_type": "code",
   "execution_count": null,
   "metadata": {
    "collapsed": true,
    "jupyter": {
     "outputs_hidden": true
    }
   },
   "outputs": [],
   "source": [
    "# hint lecture cell 10\n",
    "print (\"OLS regression model for the association between Electric Use Per Person and Oil Per Person\")\n",
    "reg1 = smf.ols('oilperperson ~ relectricperperson', data = gapminder_clean).fit()\n",
    "print (reg1.summary())"
   ]
  },
  {
   "cell_type": "markdown",
   "metadata": {},
   "source": [
    "# Residual plot -  regression analysis between relectricperperson (x) and oilperperson (y)"
   ]
  },
  {
   "cell_type": "code",
   "execution_count": null,
   "metadata": {
    "collapsed": true,
    "jupyter": {
     "outputs_hidden": true
    }
   },
   "outputs": [],
   "source": [
    "# hint lecture cell 11\n",
    "%matplotlib inline\n",
    "scat1 = sns.residplot(x=\"relectricperperson\", y=\"oilperperson\", data=gapminder_clean)\n",
    "plt.xlabel('Electricity Use Per Person') # Define the x-axis of the plot.\n",
    "plt.ylabel('Oil Use Per Person') # Define the y-axis of the plot.\n",
    "plt.title('Residual Plot') # Define the title of the plot."
   ]
  },
  {
   "cell_type": "markdown",
   "metadata": {},
   "source": [
    "# # Regression - Scenario 4"
   ]
  },
  {
   "cell_type": "markdown",
   "metadata": {},
   "source": [
    "# Scatter plot with regression to show association between co2emissions (x) and oilperperson (y) - with regression line"
   ]
  },
  {
   "cell_type": "code",
   "execution_count": null,
   "metadata": {
    "collapsed": true,
    "jupyter": {
     "outputs_hidden": true
    }
   },
   "outputs": [],
   "source": [
    "# hint lecture cell 12\n",
    "plt.figure()\n",
    "scat2 = sns.regplot(x=\"co2emissions\", y=\"oilperperson\", fit_reg=True, data=gapminder)\n",
    "plt.xlabel('CO2 Emission') # Define the x-axis of the plot.\n",
    "plt.ylabel('Oil Use Per Person') # Define the y-axis of the plot.\n",
    "plt.title('Scatterplot for the Association' + '\\n' + 'Between CO2 Emission and Oil Use Per Person') # Define the title of the plot."
   ]
  },
  {
   "cell_type": "markdown",
   "metadata": {},
   "source": [
    "# Regression analysis to show association between co2emissions (x) and oilperperson (y)"
   ]
  },
  {
   "cell_type": "code",
   "execution_count": null,
   "metadata": {
    "collapsed": true,
    "jupyter": {
     "outputs_hidden": true
    }
   },
   "outputs": [],
   "source": [
    "# hint lecture cell 13\n",
    "print (\"OLS regression model for the association between CO2 emission and Oil Use Per Person\")\n",
    "reg1 = smf.ols('oilperperson ~ co2emissions', data=gapminder_clean).fit()\n",
    "print (reg1.summary())"
   ]
  },
  {
   "cell_type": "markdown",
   "metadata": {},
   "source": [
    "# Residual plot -  regression analysis between co2emissions (x) and oilperperson (y)"
   ]
  },
  {
   "cell_type": "code",
   "execution_count": null,
   "metadata": {
    "collapsed": true,
    "jupyter": {
     "outputs_hidden": true
    }
   },
   "outputs": [],
   "source": [
    "# hint lecture cell 14\n",
    "%matplotlib inline\n",
    "scat1 = sns.residplot(x=\"co2emissions\", y=\"oilperperson\", data=gapminder_clean)\n",
    "plt.xlabel('CO2 Emission') # Define the x-axis of the plot.\n",
    "plt.ylabel('Oil Per Person') # Define the y-axis of the plot.\n",
    "plt.title('Residual Plot') # Define the title of the plot."
   ]
  },
  {
   "cell_type": "markdown",
   "metadata": {},
   "source": [
    "# Regression with 3 variables"
   ]
  },
  {
   "cell_type": "markdown",
   "metadata": {},
   "source": [
    "# Use co2emissionsgrp function to divide/group data into 3 groups\n",
    "# Low co2emission (1): min - 1846084167\n",
    "# Medium co2emission (2): 1846084168 - 7993752800\n",
    "# High co2emission (3):  7993752801 - max"
   ]
  },
  {
   "cell_type": "code",
   "execution_count": null,
   "metadata": {
    "collapsed": true,
    "jupyter": {
     "outputs_hidden": true
    }
   },
   "outputs": [],
   "source": [
    "def co2emissionsgrp  (row):\n",
    "   if row['co2emissions'] <= 1846084167:\n",
    "      return 1\n",
    "   elif row['co2emissions'] <= 7993752800:\n",
    "      return 2\n",
    "   elif row['co2emissions'] > 7993752800:\n",
    "      return 3"
   ]
  },
  {
   "cell_type": "code",
   "execution_count": null,
   "metadata": {
    "collapsed": true,
    "jupyter": {
     "outputs_hidden": true
    }
   },
   "outputs": [],
   "source": [
    "gapminder_clean['co2emissionsgrp'] = gapminder_clean.apply (lambda row: co2emissionsgrp (row),axis=1)"
   ]
  },
  {
   "cell_type": "markdown",
   "metadata": {},
   "source": [
    "# Print the number of countries in each group of CO2 emission"
   ]
  },
  {
   "cell_type": "code",
   "execution_count": null,
   "metadata": {
    "collapsed": true,
    "jupyter": {
     "outputs_hidden": true
    }
   },
   "outputs": [],
   "source": [
    "# hint lecture cell 17\n",
    "chk1 = gapminder_clean['co2emissionsgrp'].value_counts(sort=False, dropna=False)\n",
    "print(chk1)"
   ]
  },
  {
   "cell_type": "markdown",
   "metadata": {},
   "source": [
    "# Divide gapminder_clean into 3 dataframes, each dataframe representing rows of data in low, medium and high CO2 Emission "
   ]
  },
  {
   "cell_type": "code",
   "execution_count": null,
   "metadata": {
    "collapsed": true,
    "jupyter": {
     "outputs_hidden": true
    }
   },
   "outputs": [],
   "source": [
    "sub1=gapminder_clean[(gapminder_clean['co2emissionsgrp']== 1)]\n",
    "sub2=gapminder_clean[(gapminder_clean['co2emissionsgrp']== 2)]\n",
    "sub3=gapminder_clean[(gapminder_clean['co2emissionsgrp']== 3)]"
   ]
  },
  {
   "cell_type": "markdown",
   "metadata": {},
   "source": [
    "# Regression - Scenario 5"
   ]
  },
  {
   "cell_type": "markdown",
   "metadata": {},
   "source": [
    "# Scatter plot with regression analysis to show association between electricity use per person (x) and oilperperson (y) for low CO2 emission countries "
   ]
  },
  {
   "cell_type": "code",
   "execution_count": null,
   "metadata": {
    "collapsed": true,
    "jupyter": {
     "outputs_hidden": true
    }
   },
   "outputs": [],
   "source": [
    "# hint lecture cell 19\n",
    "%matplotlib inline\n",
    "scat1 = sns.regplot(x=\"relectricperperson\", y=\"oilperperson\", data=sub1)\n",
    "plt.xlabel('Electricity Use Per Person') # Define the x-axis of the plot.\n",
    "plt.ylabel('Oil Use Per Person') # Define the y-axis of the plot.\n",
    "plt.title('Scatterplot for the Association Between Electricity Use Per Person and' +  '\\n' + 'Oil Use Per Person for LOW CO2 emissions countries')\n",
    "print (scat1)"
   ]
  },
  {
   "cell_type": "markdown",
   "metadata": {},
   "source": [
    "# Regression analysis to show association between electricity use per person (x) and oilperperson (y) for low CO2 emission countries"
   ]
  },
  {
   "cell_type": "code",
   "execution_count": null,
   "metadata": {
    "collapsed": true,
    "jupyter": {
     "outputs_hidden": true
    }
   },
   "outputs": [],
   "source": [
    "# hint lecture cell 20\n",
    "print ('OLS regression model for the association between Electricty Use Per Person and Oil Use Per Person for' + '\\n' + 'LOW CO2 Emission countries')\n",
    "reg1 = smf.ols('oilperperson ~ relectricperperpson', data=sub1).fit()\n",
    "print (reg1.summary())"
   ]
  },
  {
   "cell_type": "markdown",
   "metadata": {},
   "source": [
    "# Residual plot -  regression analysis between relectricperperson (x) and oilperperson (y) for Low CO2 emission countries"
   ]
  },
  {
   "cell_type": "code",
   "execution_count": null,
   "metadata": {
    "collapsed": true,
    "jupyter": {
     "outputs_hidden": true
    }
   },
   "outputs": [],
   "source": [
    "# hint lecture cell 23\n",
    "%matplotlib inline\n",
    "scat1 = sns.residplot(x=\"relectricperperson\", y=\"oilperperson\", data=sub1)\n",
    "plt.xlabel('Electricity Use Per Person') # Define the x-axis of the plot.\n",
    "plt.ylabel('Oil Use Per Person') # Define the y-axis of the plot.\n",
    "plt.title('Residual Plot - LOW CO2 Emission Countries') # Define the title of the plot."
   ]
  },
  {
   "cell_type": "markdown",
   "metadata": {},
   "source": [
    "# Regression - Scenario 6"
   ]
  },
  {
   "cell_type": "markdown",
   "metadata": {},
   "source": [
    "# Scatter plot with regression analysis to show association between electricity use per person (x) and oilperperson (y) for medium CO2 emission countries "
   ]
  },
  {
   "cell_type": "code",
   "execution_count": null,
   "metadata": {
    "collapsed": true,
    "jupyter": {
     "outputs_hidden": true
    }
   },
   "outputs": [],
   "source": [
    "# hint lecture cell 24\n",
    "%matplotlib inline\n",
    "scat1 = sns.regplot(x=\"relectricperperson\", y=\"oilperperson\", data=sub2)\n",
    "plt.xlabel('Electricity Use Per Person') # Define the x-axis of the plot.\n",
    "plt.ylabel('Oil Use Per Person') # Define the y-axis of the plot.\n",
    "plt.title('Scatterplot for the Association Between Electricity Use Per Person and' +  '\\n' + 'Oil Use Per Person for MEDIUM CO2 emissions countries')\n",
    "print (scat1)"
   ]
  },
  {
   "cell_type": "code",
   "execution_count": null,
   "metadata": {},
   "outputs": [],
   "source": [
    "# hint lecture cell 25\n",
    "print ('OLS regression model for the association between Electricty Use Per Person and Oil Use Per Person for' + '\\n' + 'MEDIUM CO2 Emission countries')\n",
    "reg1 = smf.ols('oilperperson ~ relectricperperson', data=sub2).fit()\n",
    "print (reg1.summary())"
   ]
  },
  {
   "cell_type": "markdown",
   "metadata": {},
   "source": [
    "# Residual plot -  regression analysis between relectricperperson (x) and oilperperson (y) for Medium CO2 emission countries"
   ]
  },
  {
   "cell_type": "code",
   "execution_count": null,
   "metadata": {
    "collapsed": true,
    "jupyter": {
     "outputs_hidden": true
    }
   },
   "outputs": [],
   "source": [
    "# hint lecture cell 23\n",
    "%matplotlib inline\n",
    "scat1 = sns.residplot(x=\"relectricperperson\", y=\"oilperperson\", data=sub2)\n",
    "plt.xlabel('Electricity Use Per Person') # Define the x-axis of the plot.\n",
    "plt.ylabel('Oil Use Per Person') # Define the y-axis of the plot.\n",
    "plt.title('Residual Plot - Medium CO2 Emission Countries') # Define the title of the plot."
   ]
  },
  {
   "cell_type": "markdown",
   "metadata": {},
   "source": [
    "# Regression - Scenario 7"
   ]
  },
  {
   "cell_type": "markdown",
   "metadata": {},
   "source": [
    "# Scatter plot with regression analysis to show association between electricity use per person (x) and oilperperson (y) for high CO2 emission countries "
   ]
  },
  {
   "cell_type": "code",
   "execution_count": null,
   "metadata": {
    "collapsed": true,
    "jupyter": {
     "outputs_hidden": true
    }
   },
   "outputs": [],
   "source": [
    "# hint lecture cell 24\n",
    "%matplotlib inline\n",
    "scat1 = sns.regplot(x=\"relectricperperson\", y=\"oilperperson\", data=sub3)\n",
    "plt.xlabel('Electricity Use Per Person') # Define the x-axis of the plot.\n",
    "plt.ylabel('Oil Use Per Person') # Define the y-axis of the plot.\n",
    "plt.title('Scatterplot for the Association Between Electricity Use Per Person and' +  '\\n' + 'Oil Use Per Person for HIGH CO2 emissions countries')\n",
    "print (scat1)"
   ]
  },
  {
   "cell_type": "code",
   "execution_count": null,
   "metadata": {
    "collapsed": true,
    "jupyter": {
     "outputs_hidden": true
    }
   },
   "outputs": [],
   "source": [
    "# hint lecture cell 25\n",
    "print ('OLS regression model for the association between Electricty Use Per Person and Oil Use Per Person for' + '\\n' + 'HIGH CO2 Emission countries')\n",
    "reg1 = smf.ols('oilperperson ~ relectricperperson', data=sub3).fit()\n",
    "print (reg1.summary())"
   ]
  },
  {
   "cell_type": "markdown",
   "metadata": {},
   "source": [
    "# Residual plot -  regression analysis between relectricperperson (x) and oilperperson (y) for High CO2 emission countries"
   ]
  },
  {
   "cell_type": "code",
   "execution_count": null,
   "metadata": {
    "collapsed": true,
    "jupyter": {
     "outputs_hidden": true
    }
   },
   "outputs": [],
   "source": [
    "# hint lecture cell 23\n",
    "%matplotlib inline\n",
    "scat1 = sns.residplot(x=\"relectricperperson\", y=\"oilperperson\", data=sub3)\n",
    "plt.xlabel('Electricity Use Per Person') # Define the x-axis of the plot.\n",
    "plt.ylabel('Oil Use Per Person') # Define the y-axis of the plot.\n",
    "plt.title('Residual Plot - High CO2 Emission Countries') # Define the title of the plot."
   ]
  }
 ],
 "metadata": {
  "kernelspec": {
   "display_name": "Python 3",
   "language": "python",
   "name": "python3"
  },
  "language_info": {
   "codemirror_mode": {
    "name": "ipython",
    "version": 3
   },
   "file_extension": ".py",
   "mimetype": "text/x-python",
   "name": "python",
   "nbconvert_exporter": "python",
   "pygments_lexer": "ipython3",
   "version": "3.8.3"
  }
 },
 "nbformat": 4,
 "nbformat_minor": 4
}
