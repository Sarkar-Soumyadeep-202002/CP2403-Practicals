{
 "cells": [
  {
   "cell_type": "markdown",
   "metadata": {},
   "source": [
    "# First Name: Soumyadeep\n",
    "# Last Name: Sarkar"
   ]
  },
  {
   "cell_type": "code",
   "execution_count": 1,
   "metadata": {},
   "outputs": [],
   "source": [
    "import pandas as pd\n",
    "import numpy as np\n",
    "import scipy.stats  #I usually keep scipy as scipy because you will need to access it libraries separately. \n",
    "import seaborn as sns\n",
    "import matplotlib.pyplot as plt"
   ]
  },
  {
   "cell_type": "code",
   "execution_count": 3,
   "metadata": {},
   "outputs": [],
   "source": [
    "#read in csv file into \n",
    "nesarc = pd.read_csv('nesarc.csv', low_memory=False) #increase efficiency\n",
    "pd.set_option('display.float_format', lambda x:'%f'%x)"
   ]
  },
  {
   "cell_type": "code",
   "execution_count": 4,
   "metadata": {},
   "outputs": [],
   "source": [
    "#setting variables you will be working with to numeric\n",
    "nesarc['S2AQ5B'] = pd.to_numeric(nesarc['S2AQ5B'], errors='coerce') #convert variable to numeric\n",
    "nesarc['S2AQ5D'] = pd.to_numeric(nesarc['S2AQ5D'], errors='coerce') #convert variable to numeric\n",
    "nesarc['S2AQ5A'] = pd.to_numeric(nesarc['S2AQ5A'], errors='coerce') #convert variable to numeric\n",
    "nesarc['S2BQ1B1'] = pd.to_numeric(nesarc['S2BQ1B1'], errors='coerce') #convert variable to numeric\n",
    "nesarc['AGE'] = pd.to_numeric(nesarc['AGE'], errors='coerce') #convert variable to numeric"
   ]
  },
  {
   "cell_type": "code",
   "execution_count": 5,
   "metadata": {},
   "outputs": [],
   "source": [
    "#subset data to adults age 26 to 50 who have consumed beer in the past 12 months\n",
    "sub1=nesarc[(nesarc['AGE']>=26) & (nesarc['AGE']<=50) & (nesarc['S2AQ5A']==1)]"
   ]
  },
  {
   "cell_type": "code",
   "execution_count": 6,
   "metadata": {},
   "outputs": [],
   "source": [
    "sub2=sub1.copy()"
   ]
  },
  {
   "cell_type": "code",
   "execution_count": 7,
   "metadata": {},
   "outputs": [],
   "source": [
    "#SETTING MISSING DATA\n",
    "sub2['S2AQ5D']=sub2['S2AQ5D'].replace(99, np.nan)\n",
    "\n",
    "sub2['S2AQ5B']=sub2['S2AQ5B'].replace(8, np.nan)\n",
    "sub2['S2AQ5B']=sub2['S2AQ5B'].replace(9, np.nan)\n",
    "sub2['S2AQ5B']=sub2['S2AQ5B'].replace(10, np.nan)\n",
    "sub2['S2AQ5B']=sub2['S2AQ5B'].replace(99, np.nan)\n",
    "\n",
    "sub2['S2BQ1B1']=sub2['S2BQ1B1'].replace(9, np.nan)"
   ]
  },
  {
   "cell_type": "code",
   "execution_count": 8,
   "metadata": {},
   "outputs": [],
   "source": [
    "#recoding number of days consumed beer in the past month\n",
    "recode2 = {1:30, 2:26, 3:14, 4:8, 5:4, 6:2.5, 7:1}\n",
    "sub2['BEER_FEQMO']= sub2['S2AQ5B'].map(recode2)\n",
    "\n",
    "recode3 = {2:0, 1:1}\n",
    "sub2['S2BQ1B1']= sub2['S2BQ1B1'].map(recode3)"
   ]
  },
  {
   "cell_type": "markdown",
   "metadata": {},
   "source": [
    "# contingency table of observed counts - between beer dependence (S2BQ1B1) and beer drinking frequency  (BEER_FEQMO)\n",
    "# Use sub2"
   ]
  },
  {
   "cell_type": "code",
   "execution_count": null,
   "metadata": {
    "collapsed": true,
    "jupyter": {
     "outputs_hidden": true
    }
   },
   "outputs": [],
   "source": [
    "# hint lecture cell 8\n",
    "ct1= pd.crosstab(sub2['S2BQ1B1'], sub2['BEER_FEQMO'])\n",
    "print (ct1) "
   ]
  },
  {
   "cell_type": "markdown",
   "metadata": {},
   "source": [
    "# contingency table of observed percentages - between beer dependence (S2BQ1B1) and beer drinking frequency  (BEER_FEQMO)\n",
    "# Use ct1 calculated in the above cell"
   ]
  },
  {
   "cell_type": "code",
   "execution_count": null,
   "metadata": {},
   "outputs": [],
   "source": [
    "# hint lecture cell 9\n",
    "colsum= ct1.sum(axis=0) \n",
    "colpct= ct1/colsum\n",
    "print(colpct)"
   ]
  },
  {
   "cell_type": "markdown",
   "metadata": {},
   "source": [
    "# chi-square analysis between beer dependence (S2BQ1B1) and beer drinking frequency  (BEER_FEQMO)\n",
    "# Use ct1 "
   ]
  },
  {
   "cell_type": "code",
   "execution_count": null,
   "metadata": {},
   "outputs": [],
   "source": [
    "# hint lecture cell 10\n",
    "print ('chi-square value, p value, expected counts')\n",
    "cs1= scipy.stats.chi2_contingency(ct1)\n",
    "print (cs1)"
   ]
  },
  {
   "cell_type": "markdown",
   "metadata": {},
   "source": [
    "# Bar plot to show relationship between beer dependence (S2BQ1B1) and beer drinking frequency (BEER_FEQMO)"
   ]
  },
  {
   "cell_type": "code",
   "execution_count": null,
   "metadata": {
    "scrolled": true
   },
   "outputs": [],
   "source": [
    "# hint lecture cell 11\n",
    "%matplotlib inline\n",
    "sns.factorplot\n",
    "plt.xlabel('Days drink beer per month') # Define the x-axis of the plot.\n",
    "plt.ylabel('Proportion Beer Dependent') # Define the y-axis of the plot."
   ]
  },
  {
   "cell_type": "markdown",
   "metadata": {},
   "source": [
    "# Post-hoc analysis\n",
    "# Compare drinking beer once a month with drinking beer 2.5 days a mont"
   ]
  },
  {
   "cell_type": "code",
   "execution_count": null,
   "metadata": {},
   "outputs": [],
   "source": [
    "# hint lecture cell 12\n",
    "recode2 = {1: 1, 2.5: 2.5}\n",
    "sub2['COMP1v2']= sub2['BEER_FEQMO'].map(recode2)"
   ]
  },
  {
   "cell_type": "code",
   "execution_count": null,
   "metadata": {},
   "outputs": [],
   "source": [
    "# hint lecture cell 13\n",
    "# contingency table of observed counts\n",
    "ct2= pd.crosstab(sub2['S2BQ1B1'], sub2['COMP1v2'])\n",
    "print (ct2)"
   ]
  },
  {
   "cell_type": "code",
   "execution_count": null,
   "metadata": {},
   "outputs": [],
   "source": [
    "# hint lecture cell 14\n",
    "# column percentages\n",
    "colsum= ct2.sum(axis=0)\n",
    "colpct= ct2/colsum\n",
    "print(colpct)"
   ]
  },
  {
   "cell_type": "code",
   "execution_count": null,
   "metadata": {},
   "outputs": [],
   "source": [
    "# hint lecture cell 15\n",
    "print ('chi-square value, p value, expected counts')\n",
    "cs2= scipy.stats.chi2_contingency(ct2)\n",
    "print (cs2)"
   ]
  },
  {
   "cell_type": "markdown",
   "metadata": {},
   "source": [
    "# Post-hoc Analysis - Concise Code"
   ]
  },
  {
   "cell_type": "code",
   "execution_count": null,
   "metadata": {},
   "outputs": [],
   "source": [
    "sub3=sub2.copy()\n",
    "cat = [1,2.5,4,8,14,26,30]\n",
    "\n",
    "for x in range(0,len(cat)-1):\n",
    "    for y in range(x+1,len(cat)):\n",
    "        recode = {cat[x]:cat[x], cat[y]:cat[y]}\n",
    "        \n",
    "        sub3['temp'] = sub3['BEER_FEQMO'].map(recode)\n",
    "        cont=pd.crosstab(sub3['S2BQ1B1'], sub3['temp'])\n",
    "        \n",
    "        cs= scipy.stats.chi2_contingency(cont)\n",
    "        print(\"\\n\", cat[x], \" versus \", cat[y],\n",
    "              \"Chi value: \", cs[0], \"\\tp value: \", cs[1])"
   ]
  }
 ],
 "metadata": {
  "kernelspec": {
   "display_name": "Python 3",
   "language": "python",
   "name": "python3"
  },
  "language_info": {
   "codemirror_mode": {
    "name": "ipython",
    "version": 3
   },
   "file_extension": ".py",
   "mimetype": "text/x-python",
   "name": "python",
   "nbconvert_exporter": "python",
   "pygments_lexer": "ipython3",
   "version": "3.8.3"
  }
 },
 "nbformat": 4,
 "nbformat_minor": 4
}
