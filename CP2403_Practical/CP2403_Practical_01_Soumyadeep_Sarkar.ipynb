{
 "cells": [
  {
   "cell_type": "markdown",
   "metadata": {},
   "source": [
    "# First Name: Soumyadeep \n",
    "# Last Name: Sarkar"
   ]
  },
  {
   "cell_type": "markdown",
   "metadata": {},
   "source": [
    "# Importing libraries"
   ]
  },
  {
   "cell_type": "code",
   "execution_count": 1,
   "metadata": {},
   "outputs": [],
   "source": [
    "#import pandas & numpy\n",
    "import pandas as pd\n",
    "import numpy as np"
   ]
  },
  {
   "cell_type": "markdown",
   "metadata": {},
   "source": [
    "# 1. Read in the nesarc.csv file"
   ]
  },
  {
   "cell_type": "code",
   "execution_count": 2,
   "metadata": {},
   "outputs": [],
   "source": [
    "#read in csv file into \n",
    "nesarc = pd.read_csv('nesarc.csv', low_memory=False) #increase efficiency"
   ]
  },
  {
   "cell_type": "markdown",
   "metadata": {},
   "source": [
    "# 2. Print the number of rows, columns in nesarc "
   ]
  },
  {
   "cell_type": "code",
   "execution_count": null,
   "metadata": {},
   "outputs": [],
   "source": [
    "# hint lecture cell 3\n",
    "print (len()) #number of rows (observations)\n",
    "print (len()) # number of columns (variables)"
   ]
  },
  {
   "cell_type": "markdown",
   "metadata": {},
   "source": [
    "# Printing the first 5 rows of nesarc"
   ]
  },
  {
   "cell_type": "code",
   "execution_count": null,
   "metadata": {},
   "outputs": [],
   "source": [
    "# hint lecture cell 3\n",
    "#print the first five rows\n",
    "nesarc.head() # print the first five rows."
   ]
  },
  {
   "cell_type": "markdown",
   "metadata": {},
   "source": [
    "# Convert Alcohol effects - 12 months (S2BQ1B1) to numeric & print first 10 rows"
   ]
  },
  {
   "cell_type": "code",
   "execution_count": null,
   "metadata": {},
   "outputs": [],
   "source": [
    "# hint lecture cell 4\n",
    "#Read in Alcohol effects - 12 months (S2BQ1B1)\n",
    "nesarc['S2BQ1B1'] = pd.to_numeric(nesarc['S2BQ1B1'], errors='coerce') # convert variable to numeric.\n",
    "nesarc['S2BQ1B1'].head(10) #print the first 10 rows"
   ]
  },
  {
   "cell_type": "markdown",
   "metadata": {},
   "source": [
    "# Print the count and percentage of  Alcohol effects - 12 months (S2BQ1B1)"
   ]
  },
  {
   "cell_type": "code",
   "execution_count": null,
   "metadata": {},
   "outputs": [],
   "source": [
    "# hint lecture cell 9\n",
    "#calculate counts for Alcohol effects - 12 months (S2BQ1B1) \n",
    "print ('Counts for S2BQ1B1 alcohol effect in the past 12 months, yes=1') #Title\n",
    "c_al_dep = nesarc['S2BQ1B1'].value_counts(sort=False) #sort by values\n",
    "print (c_al_dep)\n",
    "\n",
    "#calculate percentages for Alcohol effects - 12 months (S2BQ1B1)\n",
    "print ('percentages for S2BQ1B1 alcohol effect in the past 12 months, yes=1') #Title\n",
    "p_al_dep = nesarc['S2BQ1B1'].value_counts(sort=False, normalize = True) #normalize=True will give percentage\n",
    "print (p_al_dep)"
   ]
  },
  {
   "cell_type": "markdown",
   "metadata": {},
   "source": [
    "# Convert Beer drinking status (S2AQ5A) to numeric & print first 10 rows "
   ]
  },
  {
   "cell_type": "code",
   "execution_count": null,
   "metadata": {},
   "outputs": [],
   "source": [
    "# hint lecture cell 10\n",
    "nesarc['S2AQ5A'] = pd.to_numeric(nesarc['S2AQ5A'], errors= 'coerce') #convert smoking status to numeric\n",
    "nesarc['S2AQ5A'].head(10) #print the first 25"
   ]
  },
  {
   "cell_type": "markdown",
   "metadata": {},
   "source": [
    "# Print the count and percentage of  Beer drinking status (S2AQ5A)"
   ]
  },
  {
   "cell_type": "code",
   "execution_count": null,
   "metadata": {},
   "outputs": [],
   "source": [
    "# hint lecture cell 11\n",
    "c_beer_status = nesarc['S2AQ5A'].value_counts(sort=False, dropna=False) #dropna=False to keep NaN in calculation\n",
    "print ('counts for S2AQ5A beer drinking in the past year, yes=1') # Title\n",
    "print(c_beer_status)\n",
    "\n",
    "p_beer_status = nesarc['S2AQ5A'].value_counts(sort=False, dropna=False, normalize=True) #dropna=False to keep NaN in calculation\n",
    "print ('percentages for S2AQ5A beer drinking in the past year, yes=1') # Title\n",
    "print (p_beer_status)"
   ]
  },
  {
   "cell_type": "markdown",
   "metadata": {},
   "source": [
    "# Convert HOW OFTEN DRANK BEER IN LAST 12 MONTHS (S2AQ5B) to numeric & print first 10 rows"
   ]
  },
  {
   "cell_type": "code",
   "execution_count": null,
   "metadata": {},
   "outputs": [],
   "source": [
    "# hint lecture cell 10\n",
    "nesarc['S2AQ5B'] = pd.to_numeric(nesarc['S2AQ5B'], errors='coerce') # Convert to numeric.\n",
    "nesarc['S2AQ5B'].head(10) # print the first ten rows."
   ]
  },
  {
   "cell_type": "markdown",
   "metadata": {},
   "source": [
    "# Print the count and percentage of HOW OFTEN DRANK BEER IN LAST 12 MONTHS (S2AQ5B)"
   ]
  },
  {
   "cell_type": "code",
   "execution_count": null,
   "metadata": {},
   "outputs": [],
   "source": [
    "# hint lecture cell 12\n",
    "nesarc['S2AQ5B'] = nesarc['S2AQ5B'].astype('category') #set the data type as categorical data\n",
    "\n",
    "c_beer_feq = nesarc['S2AQ5B'].value_counts(sort=False)\n",
    "print ('counts for S2AQ5B – usual frequency when drinking beer')\n",
    "print(c_beer_feq)\n",
    "\n",
    "p_beer_feq = nesarc['S2AQ5B'].value_counts(sort=False, normalize=True)\n",
    "print ('percentages for S2AQ5B - usual frequency when drinking beer')\n",
    "print (p_beer_feq)"
   ]
  },
  {
   "cell_type": "markdown",
   "metadata": {},
   "source": [
    "# Convert NUMBER OF BEERS USUALLY CONSUMED ON DAYS WHEN DRANK BEER IN LAST 12 MONTHS (S2AQ5D) to numeric & print first 10 rows"
   ]
  },
  {
   "cell_type": "code",
   "execution_count": null,
   "metadata": {},
   "outputs": [],
   "source": [
    "# hint lecture cell 10\n",
    "nesarc['S2AQ5D'] = pd.to_numeric(nesarc['S2AQ5D'], errors='coerce')\n",
    "nesarc['S2AQ5D'] = nesarc['S2AQ5D'].astype(\"category\") # check code - M"
   ]
  },
  {
   "cell_type": "markdown",
   "metadata": {},
   "source": [
    "# Print the count and percentage of NUMBER OF BEERS USUALLY CONSUMED ON DAYS WHEN DRANK BEER IN LAST 12 MONTHS (S2AQ5D)"
   ]
  },
  {
   "cell_type": "code",
   "execution_count": null,
   "metadata": {},
   "outputs": [],
   "source": [
    "# hint lecture cell 11\n",
    "c_beer_quan = nesarc['S2AQ5D'].value_counts(sort=False)\n",
    "print ('counts for S2AQ5D usual quantity when drink beer')\n",
    "print(c_beer_quan)\n",
    "\n",
    "p_beer_quan = nesarc['S2AQ5D'].value_counts(sort=False, normalize = True)\n",
    "print ('percentages for S2AQ5D usual quantity when drink beer')\n",
    "print (p_beer_quan)"
   ]
  },
  {
   "cell_type": "markdown",
   "metadata": {},
   "source": [
    "# Use groupby () to calculate count & percentage for Alcohol effects - 12 months (S2BQ1B1)"
   ]
  },
  {
   "cell_type": "code",
   "execution_count": null,
   "metadata": {},
   "outputs": [],
   "source": [
    "# hint lecture cell 14\n",
    "#count using groupby\n",
    "c_al_dep_alt = nesarc.groupby('S2BQ1B1').size() # Calculate the percentage for alcohol effects.\n",
    "print(c_al_dep_alt)"
   ]
  },
  {
   "cell_type": "code",
   "execution_count": null,
   "metadata": {},
   "outputs": [],
   "source": [
    "# hint lecture cell 15\n",
    "p_al_dep_alt = nesarc.groupby('S2BQ1B1').size()*100/len(nesarc)\n",
    "print(p_al_dep_alt)"
   ]
  },
  {
   "cell_type": "markdown",
   "metadata": {},
   "source": [
    "# Obtain a subset of nesarc data, with the following criteria\n",
    "# Age from 26 to 50\n",
    "# Beer drinking status - S2AQ5A = Y"
   ]
  },
  {
   "cell_type": "code",
   "execution_count": null,
   "metadata": {},
   "outputs": [],
   "source": [
    "# hint lecture cell 16\n",
    "nesarc['AGE'] = pd.to_numeric(nesarc['AGE'])\n",
    "\n",
    "#subset data to young adults age 26 to 50 who have drink beer in the past 12 months\n",
    "sub1= nesarc[(nesarc['AGE']>=26) & (nesarc['AGE'<=50]) & (nesarc['S2QA5A'] == 1)]\n",
    "\n",
    "#make a copy of the new subsetted data\n",
    "sub2 = sub1.copy()\n",
    "\n",
    "c5 = sub2['AGE'].value_counts(sort=False)\n",
    "print ('counts for AGE')\n",
    "print(c5)\n",
    "\n",
    "p5 = sub2['AGE'].value_counts(sort=False, normalize=True)\n",
    "print ('percentages for AGE')\n",
    "print (p5)"
   ]
  }
 ],
 "metadata": {
  "kernelspec": {
   "display_name": "Python 3",
   "language": "python",
   "name": "python3"
  },
  "language_info": {
   "codemirror_mode": {
    "name": "ipython",
    "version": 3
   },
   "file_extension": ".py",
   "mimetype": "text/x-python",
   "name": "python",
   "nbconvert_exporter": "python",
   "pygments_lexer": "ipython3",
   "version": "3.8.3"
  }
 },
 "nbformat": 4,
 "nbformat_minor": 4
}
