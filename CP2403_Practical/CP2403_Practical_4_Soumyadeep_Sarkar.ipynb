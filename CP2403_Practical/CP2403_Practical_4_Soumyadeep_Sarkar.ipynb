{
 "cells": [
  {
   "cell_type": "markdown",
   "metadata": {},
   "source": [
    "# First Name : Soumyadeep \n",
    "# Last Name : Sarkar"
   ]
  },
  {
   "cell_type": "code",
   "execution_count": null,
   "metadata": {},
   "outputs": [],
   "source": [
    "import pandas as pd\n",
    "import numpy as np\n",
    "import seaborn as sns\n",
    "import matplotlib.pyplot as plt"
   ]
  },
  {
   "cell_type": "code",
   "execution_count": null,
   "metadata": {},
   "outputs": [],
   "source": [
    "nesarc = pd.read_csv('nesarc.csv', low_memory=False)\n",
    "pd.set_option('display.float_format', lambda x:'%f'%x)"
   ]
  },
  {
   "cell_type": "markdown",
   "metadata": {},
   "source": [
    "# From Prac 1\n",
    "# Columns/Data used in Prac 1"
   ]
  },
  {
   "cell_type": "code",
   "execution_count": null,
   "metadata": {},
   "outputs": [],
   "source": [
    "nesarc['S2AQ5B'] = pd.to_numeric(nesarc['S2AQ5B'], errors='coerce') #convert variable to numeric\n",
    "nesarc['S2AQ5D'] = pd.to_numeric(nesarc['S2AQ5D'], errors='coerce') #convert variable to numeric\n",
    "nesarc['S2AQ5A'] = pd.to_numeric(nesarc['S2AQ5A'], errors='coerce') #convert variable to numeric\n",
    "nesarc['S2BQ1B1'] = pd.to_numeric(nesarc['S2BQ1B1'], errors='coerce') #convert variable to numeric\n",
    "nesarc['AGE'] = pd.to_numeric(nesarc['AGE'], errors='coerce') #convert variable to numeric"
   ]
  },
  {
   "cell_type": "markdown",
   "metadata": {},
   "source": [
    "# From Prac 2\n",
    "# A subset of nesarc data, with the following criteria\n",
    "# Age from 26 to 50\n",
    "# Beer drinking status - S2AQ5A = Y"
   ]
  },
  {
   "cell_type": "code",
   "execution_count": null,
   "metadata": {},
   "outputs": [],
   "source": [
    "sub1=nesarc[(nesarc['AGE']>=26) & (nesarc['AGE']<=50) & (nesarc['S2AQ5A']==1)]\n",
    "sub2=sub1.copy()"
   ]
  },
  {
   "cell_type": "markdown",
   "metadata": {},
   "source": [
    "# From Prac 2\n",
    "# SETTING MISSING DATA"
   ]
  },
  {
   "cell_type": "code",
   "execution_count": null,
   "metadata": {},
   "outputs": [],
   "source": [
    "sub2['S2AQ5D']=sub2['S2AQ5D'].replace(99, np.nan)\n",
    "\n",
    "sub2['S2AQ5B']=sub2['S2AQ5B'].replace(8, np.nan)\n",
    "sub2['S2AQ5B']=sub2['S2AQ5B'].replace(9, np.nan)\n",
    "sub2['S2AQ5B']=sub2['S2AQ5B'].replace(10, np.nan)\n",
    "sub2['S2AQ5B']=sub2['S2AQ5B'].replace(99, np.nan)\n",
    "\n",
    "sub2['S2BQ1B1']=sub2['S2BQ1B1'].replace(9, np.nan)"
   ]
  },
  {
   "cell_type": "markdown",
   "metadata": {},
   "source": [
    "# From Prac 2\n",
    "# Recode data"
   ]
  },
  {
   "cell_type": "code",
   "execution_count": null,
   "metadata": {},
   "outputs": [],
   "source": [
    "recode2 = {1:30, 2:26, 3:14, 4:8, 5:4, 6:2.5, 7:1}\n",
    "sub2['BEER_FEQMO']= sub2['S2AQ5B'].map(recode2)\n",
    "\n",
    "recode3 = {2:0, 1:1}\n",
    "sub2['S2BQ1B1']= sub2['S2BQ1B1'].map(recode3)"
   ]
  },
  {
   "cell_type": "markdown",
   "metadata": {},
   "source": [
    "# From Prac 2\n",
    "# Create secondary variables"
   ]
  },
  {
   "cell_type": "code",
   "execution_count": null,
   "metadata": {},
   "outputs": [],
   "source": [
    "# A secondary variable multiplying the number of days beer consumed/month and the approx number of \n",
    "# beer consumed/day\n",
    "sub2['NUMBEERMO_EST']=sub2['BEER_FEQMO'] * sub2['S2AQ5D']"
   ]
  },
  {
   "cell_type": "markdown",
   "metadata": {},
   "source": [
    "# Draw a Line chart\n",
    "# Age vs Number of beer consumed per month (NUMBEERMO_EST)"
   ]
  },
  {
   "cell_type": "markdown",
   "metadata": {},
   "source": [
    "# a) mean number of beer consumed\n",
    "# var = mean number of beers consumed a month, grouped by age"
   ]
  },
  {
   "cell_type": "code",
   "execution_count": null,
   "metadata": {},
   "outputs": [],
   "source": [
    "# hint lecture cell 9\n",
    "var = sub2.groupby(['AGE']).NUMBEERO_EST.mean()\n",
    "print(var)"
   ]
  },
  {
   "cell_type": "code",
   "execution_count": null,
   "metadata": {},
   "outputs": [],
   "source": [
    "# hint lecture cell 10\n",
    "%matplotlib inline\n",
    "var.plot(kind='line')\n",
    "#code for line chart"
   ]
  },
  {
   "cell_type": "markdown",
   "metadata": {},
   "source": [
    "# b) total number of beer consumed\n",
    "# var2 = sum number of beers consumed a month, grouped by age"
   ]
  },
  {
   "cell_type": "code",
   "execution_count": null,
   "metadata": {},
   "outputs": [],
   "source": [
    "# hint lecture cell 11\n",
    "var2 = sub2.groupby([AGE]).NUMBEERO_EST.sum()\n",
    "print(var2)"
   ]
  },
  {
   "cell_type": "code",
   "execution_count": null,
   "metadata": {},
   "outputs": [],
   "source": [
    "# hint lecture cell 12\n",
    "fig = plt.figure()\n",
    "var2.plot(kind='line')\n",
    "# code for line chart"
   ]
  },
  {
   "cell_type": "markdown",
   "metadata": {},
   "source": [
    "# Draw a stacked Column Chart\n",
    "# x = age (AGE)\n",
    "# y = number of beers consumed per month (NUMBEERMO_EST)\n",
    "# stack is based on depedency on beer (S2BQ1B1)\n",
    "\n",
    "# var3 = mean number of beers consumed a month, grouped by age and beer depedency (S2BQ1B1)"
   ]
  },
  {
   "cell_type": "code",
   "execution_count": null,
   "metadata": {},
   "outputs": [],
   "source": [
    "# hint lecture cell 13\n",
    "var3 = sub2.groupby(['AGE', 'S2BQ1B1']).NUMBEERO_EST.sum()\n",
    "print(var3)"
   ]
  },
  {
   "cell_type": "code",
   "execution_count": null,
   "metadata": {},
   "outputs": [],
   "source": [
    "# hint lecture cell 14\n",
    "# code for vertical stack chart\n",
    "var3.unstack().plot(kind='bar', stacked=True, color=['red', 'blue'], grid=False) # Define the type of the plot to be used."
   ]
  },
  {
   "cell_type": "markdown",
   "metadata": {},
   "source": [
    "# Draw a horizontal stacked Column Chart\n",
    "# x = age (AGE)\n",
    "# y = number of beers consumed per month (NUMBEERMO_EST)\n",
    "# stack is based on depedency on  beer (S2BQ1B1)"
   ]
  },
  {
   "cell_type": "code",
   "execution_count": null,
   "metadata": {},
   "outputs": [],
   "source": [
    "# hint lecture cell 15\n",
    "var3.unstack().plot(kind='barh', stacked=True, color=['red','blue'], grid=False) # Define the type of plot to be used.\n",
    "# code for horizontal stack chart"
   ]
  },
  {
   "cell_type": "markdown",
   "metadata": {},
   "source": [
    "# Draw a Pie Chart showing age (AGE) and total beer consumed a month (NUMBEERMO_EST)\n",
    "# hint use var2"
   ]
  },
  {
   "cell_type": "code",
   "execution_count": null,
   "metadata": {},
   "outputs": [],
   "source": [
    "print(var2)"
   ]
  },
  {
   "cell_type": "code",
   "execution_count": null,
   "metadata": {},
   "outputs": [],
   "source": [
    "# hint lecture cell 17\n",
    "fig = plt.figure()\n",
    "var2.plot(kind='pie', autopct='%.1f') # Define the type of the plot.\n",
    "# code for pie chart"
   ]
  },
  {
   "cell_type": "markdown",
   "metadata": {},
   "source": [
    "# Draw a Violin Plot for age (AGE) and income (S1Q10A)"
   ]
  },
  {
   "cell_type": "markdown",
   "metadata": {},
   "source": [
    "# convert income (S1Q10A) to numeric"
   ]
  },
  {
   "cell_type": "code",
   "execution_count": null,
   "metadata": {},
   "outputs": [],
   "source": [
    "sub2['S1Q10A'] = pd.to_numeric(nesarc['S1Q10A']) #convert variable to numeric."
   ]
  },
  {
   "cell_type": "markdown",
   "metadata": {},
   "source": [
    "# Plot violin plot"
   ]
  },
  {
   "cell_type": "code",
   "execution_count": null,
   "metadata": {
    "scrolled": true
   },
   "outputs": [],
   "source": [
    "# hint lecture cell 19\n",
    "fig = plt.figure()\n",
    "\n",
    "#code for violin chart\n",
    "\n",
    "plt.xlabel('Age') # Give the name of the x-axis of the plot.\n",
    "plt.ylabel('Income') # Give the name of the y-axis of the plot."
   ]
  },
  {
   "cell_type": "markdown",
   "metadata": {},
   "source": [
    "# Draw a HeatMap for Ethnicity and Carton of Beer consumed per month, based on depedency on beer"
   ]
  },
  {
   "cell_type": "markdown",
   "metadata": {},
   "source": [
    "# Rename Race - From Module 4"
   ]
  },
  {
   "cell_type": "code",
   "execution_count": null,
   "metadata": {},
   "outputs": [],
   "source": [
    "# you can rename categorical variable values for graphing if original values are not informative \n",
    "# first change the variable format to categorical if you haven’t already done so\n",
    "sub2['ETHRACE2A'] = sub2['ETHRACE2A'].astype('category')\n",
    "\n",
    "sub2['ETHRACE2A']=sub2['ETHRACE2A'].cat.rename_categories([\"White\", \"Black\", \"NatAm\", \"Asian\", \"Hispanic\"])"
   ]
  },
  {
   "cell_type": "markdown",
   "metadata": {},
   "source": [
    "# Create a new variable CARTON_ADAY using CARTON_ADAY function provided"
   ]
  },
  {
   "cell_type": "code",
   "execution_count": null,
   "metadata": {},
   "outputs": [],
   "source": [
    "def CARTON_ADAY (row):\n",
    "   if row['BEER_FEQMO'] >= 30 :\n",
    "      return 1\n",
    "   elif row['BEER_FEQMO'] < 30 :\n",
    "      return 0\n",
    "    \n",
    "sub2['CARTON_ADAY'] "
   ]
  },
  {
   "cell_type": "markdown",
   "metadata": {},
   "source": [
    "# Print the size of CARTON_ADAY, grouped by category"
   ]
  },
  {
   "cell_type": "code",
   "execution_count": null,
   "metadata": {},
   "outputs": [],
   "source": [
    "c4= sub2.groupby('CARTON_ADAY').size()\n",
    "print(c4)"
   ]
  },
  {
   "cell_type": "markdown",
   "metadata": {},
   "source": [
    "# Draw bar chart to show relationship between race (ETHRACE2A) and CARTON_ADAY"
   ]
  },
  {
   "cell_type": "code",
   "execution_count": null,
   "metadata": {},
   "outputs": [],
   "source": [
    "# hint lecture cell 22\n",
    "# bivariate bar graph C->C\n",
    "%matplotlib inline\n",
    "\n",
    "#code for bar chart\n",
    "\n",
    "plt.xlabel('Ethnic Group') # Give the name of the x-axis of the plot.\n",
    "plt.ylabel('Proportion of consumed a carton a day Beer Drinkers') # Give the name of the y-axis of the plot."
   ]
  },
  {
   "cell_type": "markdown",
   "metadata": {},
   "source": [
    "# Make copy of just race (ETHRACE2A) and CARTON_ADAY"
   ]
  },
  {
   "cell_type": "code",
   "execution_count": null,
   "metadata": {},
   "outputs": [],
   "source": [
    "sub3 = sub2[['ETHRACE2A','CARTON_ADAY']].copy()\n",
    "sub3.head()"
   ]
  },
  {
   "cell_type": "markdown",
   "metadata": {},
   "source": [
    "# Create pivot table of race (ETHRACE2A) and CARTON_ADAY"
   ]
  },
  {
   "cell_type": "code",
   "execution_count": null,
   "metadata": {},
   "outputs": [],
   "source": [
    "# hint lecture cell 24\n",
    "table = pd.pivot_table(sub3, index=['ETHRACE2A'], columns=['CARTON_ADAY'], aggfunc=np.size)\n",
    "print(table)"
   ]
  },
  {
   "cell_type": "markdown",
   "metadata": {},
   "source": [
    "# Draw heat map"
   ]
  },
  {
   "cell_type": "code",
   "execution_count": null,
   "metadata": {},
   "outputs": [],
   "source": [
    "# hint lecture cell 25\n",
    "fig = plt.figure()\n",
    "# code for heat map"
   ]
  },
  {
   "cell_type": "markdown",
   "metadata": {},
   "source": [
    "# Draw a bubble Chart"
   ]
  },
  {
   "cell_type": "markdown",
   "metadata": {},
   "source": [
    "# Read in gapminder.csv"
   ]
  },
  {
   "cell_type": "code",
   "execution_count": null,
   "metadata": {},
   "outputs": [],
   "source": [
    "pd.set_option('display.float_format', lambda x:'%.2f'%x)\n",
    "\n",
    "gapminder = pd.read_csv('gapminder.csv', low_memory=False) # Read data from the gapminder.csv file.\n",
    "gapminder.head()"
   ]
  },
  {
   "cell_type": "markdown",
   "metadata": {},
   "source": [
    "# Convert internetuserate, urbanrate and incomeperperson to numeric "
   ]
  },
  {
   "cell_type": "code",
   "execution_count": null,
   "metadata": {},
   "outputs": [],
   "source": [
    "# hint lecture cell 27\n",
    "gapminder['internetuserate'] = pd.to_numeric(gapminder['internetuserate'], errors='coerce') # Convert the data from string into numeric type.\n",
    "gapminder['urbanrate'] = pd.to_numeric(gapminder['urbanrate'],errors='coerce') # Convert the data from string into numeric type.\n",
    "gapminder['incomeperperson'] = pd.to_numeric(gapminder['incomeperson'], errors='coerce') # Convert the data from string into numeric type."
   ]
  },
  {
   "cell_type": "code",
   "execution_count": null,
   "metadata": {},
   "outputs": [],
   "source": [
    "gapminder_clean=gapminder.dropna()"
   ]
  },
  {
   "cell_type": "markdown",
   "metadata": {},
   "source": [
    "# Draw a bubble Chart\n",
    "# x = urbanrate\n",
    "# y = income per person\n",
    "# bubble size = internetuserate"
   ]
  },
  {
   "cell_type": "code",
   "execution_count": null,
   "metadata": {},
   "outputs": [],
   "source": [
    "# x = internetuserate\n",
    "# y = incomeperperson\n",
    "# Added third variable income as size of the bubble\n",
    "%matplotlib notebook\n",
    "fig = plt.figure\n",
    "plt.scatter(gapminder_clean['incomeperperson'], gapminder_clean['urbanrate'], s=gapminder_clean['internetuserate']) # State the type of plot to be used.\n",
    "plt.xlabel('Ubran Rate') # Give the name of the x-axis of the plot.\n",
    "plt.ylabel('Income Per Person') # Give the name of the y-xis of the plot. "
   ]
  }
 ],
 "metadata": {
  "kernelspec": {
   "display_name": "Python 3",
   "language": "python",
   "name": "python3"
  },
  "language_info": {
   "codemirror_mode": {
    "name": "ipython",
    "version": 3
   },
   "file_extension": ".py",
   "mimetype": "text/x-python",
   "name": "python",
   "nbconvert_exporter": "python",
   "pygments_lexer": "ipython3",
   "version": "3.8.3"
  }
 },
 "nbformat": 4,
 "nbformat_minor": 4
}
