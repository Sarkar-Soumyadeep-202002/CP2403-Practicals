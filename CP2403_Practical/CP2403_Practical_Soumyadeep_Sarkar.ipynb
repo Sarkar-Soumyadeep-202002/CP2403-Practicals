{
 "cells": [
  {
   "cell_type": "markdown",
   "metadata": {},
   "source": [
    "# First Name: Soumyadeep \n",
    "# Last Name: Sarkar"
   ]
  },
  {
   "cell_type": "code",
   "execution_count": 1,
   "metadata": {},
   "outputs": [],
   "source": [
    "import pandas as pd\n",
    "import numpy as np"
   ]
  },
  {
   "cell_type": "code",
   "execution_count": 2,
   "metadata": {},
   "outputs": [],
   "source": [
    "nesarc = pd.read_csv('nesarc.csv', low_memory=False)\n",
    "pd.set_option('display.float_format', lambda x:'%f'%x)"
   ]
  },
  {
   "cell_type": "code",
   "execution_count": 3,
   "metadata": {},
   "outputs": [],
   "source": [
    "nesarc['S2AQ5A'] = pd.to_numeric(nesarc['S2AQ5A'], errors='coerce')\n",
    "nesarc['S2AQ5B'] = pd.to_numeric(nesarc['S2AQ5B'], errors='coerce')\n",
    "nesarc['S2AQ5D'] = pd.to_numeric(nesarc['S2AQ5D'], errors='coerce') "
   ]
  },
  {
   "cell_type": "markdown",
   "metadata": {},
   "source": [
    "# For Beer drinking status (S2AQ5A) fill in nan value with 11 & print first 10 rows"
   ]
  },
  {
   "cell_type": "code",
   "execution_count": 4,
   "metadata": {},
   "outputs": [
    {
     "data": {
      "text/plain": [
       "nan         16147\n",
       "1.000000    18346\n",
       "2.000000     8562\n",
       "9.000000       38\n",
       "Name: S2AQ5A, dtype: int64"
      ]
     },
     "execution_count": 4,
     "metadata": {},
     "output_type": "execute_result"
    }
   ],
   "source": [
    "nesarc['S2AQ5A'].value_counts(sort=False, dropna=False) #get count in each category"
   ]
  },
  {
   "cell_type": "code",
   "execution_count": 5,
   "metadata": {},
   "outputs": [
    {
     "data": {
      "text/plain": [
       "nan         16147\n",
       "1.000000    18346\n",
       "2.000000     8562\n",
       "9.000000       38\n",
       "Name: S2AQ5A, dtype: int64"
      ]
     },
     "execution_count": 5,
     "metadata": {},
     "output_type": "execute_result"
    }
   ],
   "source": [
    "# hint lecture cell 5\n",
    "nesarc['S2AQ5A']\n",
    "nesarc['S2AQ5A'].head()\n",
    "nesarc['S2AQ5A'].value_counts(sort=False, dropna=False) # get count in each category after replacing nan with 11"
   ]
  },
  {
   "cell_type": "markdown",
   "metadata": {},
   "source": [
    "# For S2BQ1B1 - Effects of beer drinking (Beer Dependence) in the last 12 months replace 9 (unknown) in S2BQ1B1 (effects of beer consumtion in the last 12 months) to nan\n",
    "# & print first 10 rows"
   ]
  },
  {
   "cell_type": "code",
   "execution_count": 6,
   "metadata": {},
   "outputs": [
    {
     "data": {
      "text/plain": [
       "nan         16147\n",
       "2.000000    25309\n",
       "1.000000     1326\n",
       "9.000000      311\n",
       "Name: S2BQ1B1, dtype: int64"
      ]
     },
     "execution_count": 6,
     "metadata": {},
     "output_type": "execute_result"
    }
   ],
   "source": [
    "nesarc['S2BQ1B1'] = pd.to_numeric(nesarc['S2BQ1B1'], errors='coerce')\n",
    "nesarc['S2BQ1B1'].value_counts(sort=False, dropna = False) # get count in each category"
   ]
  },
  {
   "cell_type": "code",
   "execution_count": null,
   "metadata": {},
   "outputs": [],
   "source": [
    "# hint lecture cell 10\n",
    "nesarc['S2BQ1B1']= {2:0, 1:1}\n",
    "nesarc['S2BQ1B1'] = nesarc['S2BQ1BQ'].map(recode)\n",
    "nesarc['S2BQ1B1'].head()"
   ]
  },
  {
   "cell_type": "markdown",
   "metadata": {},
   "source": [
    "# Recode S2BQ1B1 so that\n",
    "# 0 is no \n",
    "# 1 is yes\n",
    "# currently 2 is no\n",
    "# & print first 5 rows \n"
   ]
  },
  {
   "cell_type": "code",
   "execution_count": null,
   "metadata": {},
   "outputs": [],
   "source": [
    "# hint lecture cell 15\n",
    "recode = {2:0, 1:1}\n",
    "nesarc['S2BQ1B1']= nesarc['S2BQ1BQ'].map(recode)\n",
    "nesarc['S2BQ1B1'].head()"
   ]
  },
  {
   "cell_type": "markdown",
   "metadata": {},
   "source": [
    "# Obtain a subset of nesarc data, with the following criteria\n",
    "# Age from 26 to 50\n",
    "# Beer drinking status - S2AQ5A = Y"
   ]
  },
  {
   "cell_type": "code",
   "execution_count": null,
   "metadata": {},
   "outputs": [],
   "source": [
    "nesarc['AGE'] = pd.to_numeric(nesarc['AGE'])\n",
    "\n",
    "#subset data to young adults age 26 to 50 who have drink beer in the past 12 months\n",
    "sub1=nesarc[(nesarc['AGE']>=26) & (nesarc['AGE']<=50) & (nesarc['S2AQ5A']==1)]"
   ]
  },
  {
   "cell_type": "markdown",
   "metadata": {},
   "source": [
    "# Copy sub 1 to sub 2"
   ]
  },
  {
   "cell_type": "code",
   "execution_count": null,
   "metadata": {},
   "outputs": [],
   "source": [
    "sub2 = sub1.copy()\n",
    "sub2.head()\n",
    "len(sub2)"
   ]
  },
  {
   "cell_type": "markdown",
   "metadata": {},
   "source": [
    "# Use sub2 data\n",
    "# Print the count of HOW OFTEN DRANK BEER IN LAST 12 MONTHS (S2AQ5B)"
   ]
  },
  {
   "cell_type": "code",
   "execution_count": null,
   "metadata": {},
   "outputs": [],
   "source": [
    "# hint lecture cell 18\n",
    "c_beer_feq = \n",
    "print ('counts for original S2AQ5B')\n",
    "print(c_beer_feq)"
   ]
  },
  {
   "cell_type": "markdown",
   "metadata": {},
   "source": [
    "# Based on my research, I'm assuming that drinking less than once a month is not going to affect a person. So, we are going replace the following in 'HOW OFTEN DRANK BEER IN LAST 12 MONTHS (S2AQ5B)' to nan\n",
    "# 8\n",
    "# 9\n",
    "# 10\n",
    "# 99"
   ]
  },
  {
   "cell_type": "code",
   "execution_count": null,
   "metadata": {},
   "outputs": [],
   "source": [
    "# hint lecture cell 9\n",
    "sub2['S2AQ5B']= sub2['S2AQ5B'].replace(8, np.nan)\n",
    "sub2['S2AQ5B']= sub2['S2AQ5B'].replace(9, np.nan)\n",
    "sub2['S2AQ5B']= sub2['S2AQ5B'].replace(10, np.nan)\n",
    "sub2['S2AQ5B']= sub2['S2AQ5B'].replace(99, np.nan)"
   ]
  },
  {
   "cell_type": "markdown",
   "metadata": {},
   "source": [
    "# Use sub2 data\n",
    "# Print the count of HOW OFTEN DRANK BEER IN LAST 12 MONTHS (S2AQ5B) with 8, 9, 10 and 99 set nan"
   ]
  },
  {
   "cell_type": "code",
   "execution_count": null,
   "metadata": {},
   "outputs": [],
   "source": [
    "# hint lecture cell 18\n",
    "c_beer_feq_nan = sub2['S2AQ5B'].value_counts(sort=False, dropna=False)\n",
    "print ('counts for original S2AQ5B with 8, 9, 10 and 99 set to NAN ')\n",
    "print(c_beer_feq_nan)"
   ]
  },
  {
   "cell_type": "markdown",
   "metadata": {},
   "source": [
    "# Use sub2 data\n",
    "# Count the NUMBER OF BEERS USUALLY CONSUMED ON DAYS WHEN DRANK BEER IN LAST 12 MONTHS (S2AQ5D) "
   ]
  },
  {
   "cell_type": "code",
   "execution_count": null,
   "metadata": {},
   "outputs": [],
   "source": [
    "# hint lecture cell 18\n",
    "c_beer_quan = sub2['S2AQ5B'].value_counts(sort=False, dropna=False)\n",
    "print ('counts for S2AQ5D') \n",
    "print(c_beer_quan)"
   ]
  },
  {
   "cell_type": "markdown",
   "metadata": {},
   "source": [
    "# Use sub2\n",
    "# Replace the 99  in 'NUMBER OF BEERS USUALLY CONSUMED ON DAYS WHEN DRANK BEER IN LAST 12 MONTHS (S2AQ5D)' to nan"
   ]
  },
  {
   "cell_type": "code",
   "execution_count": null,
   "metadata": {},
   "outputs": [],
   "source": [
    "# hint lecture cell 10\n",
    "sub2['S2AQ5D']= sub2['S2AQ5D'].replace(99, np.nan)"
   ]
  },
  {
   "cell_type": "markdown",
   "metadata": {},
   "source": [
    "# Print the count of 'NUMBER OF BEERS USUALLY CONSUMED ON DAYS WHEN DRANK BEER IN LAST 12 MONTHS (S2AQ5D)'- with 99 set to NAN"
   ]
  },
  {
   "cell_type": "code",
   "execution_count": null,
   "metadata": {},
   "outputs": [],
   "source": [
    "# hint lecture cell 18\n",
    "c_beer_quan_nan = sub['S2AQ5D'].value_counts(sort=False)\n",
    "print ('counts for S2AQ5D with 99 set to NAN')\n",
    "print(c_beer_quan_nan)"
   ]
  },
  {
   "cell_type": "markdown",
   "metadata": {},
   "source": [
    "# Use sub2\n",
    "# Recode HOW OFTEN DRANK BEER IN LAST 12 MONTHS (S2AQ5B) \n",
    "# as following\n",
    "\n",
    "# 1 to 7\n",
    "# 2 to 6\n",
    "# 3 to 5\n",
    "# 5 to 3\n",
    "# 6 to 2 \n",
    "# 7 to 1\n",
    "\n",
    "# so that larger categorical numbers indicate more frequently someone drinks beer\n",
    "\n",
    "# print the count for BEER-FEQ"
   ]
  },
  {
   "cell_type": "code",
   "execution_count": null,
   "metadata": {},
   "outputs": [],
   "source": [
    "# hint lecture cell 15\n",
    "recode1 = {1:7, 2:6, 3:5, 4:4, 5:3, 6:2, 7:1} #recoding so that higher numbers mean more smoking frequency\n",
    "sub2['BEER_FEQ'] = sub2['S2AQ5B'].map(recode1)\n",
    "\n",
    "recode_beer_feq = sub2['BEER_FEQ'].value_counts(sort=False) #get count in each category\n",
    "print ('counts for S2AQ5B')\n",
    "print(recode_beer_feq)"
   ]
  },
  {
   "cell_type": "markdown",
   "metadata": {},
   "source": [
    "# Use sub 2\n",
    "# Recode HOW OFTEN DRANK BEER IN LAST 12 MONTHS (S2AQ5B) \n",
    "# as following\n",
    "\n",
    "# 1 to 30\n",
    "# 2 to 26\n",
    "# 3 to 14\n",
    "# 4 to 8\n",
    "# 5 to 4\n",
    "# 6 to 2.5 \n",
    "# 7 to 1\n",
    "\n",
    "# so that larger categorical numbers indicate more frequently someone drinks beer\n",
    "\n",
    "# print count of BEER_REQMO"
   ]
  },
  {
   "cell_type": "code",
   "execution_count": null,
   "metadata": {},
   "outputs": [],
   "source": [
    "# hint lecture cell 15\n",
    "#recoding values for S2AQ5B into a new variable, BEER_FEQMO\n",
    "recode2 = {1:30, 2:26, 3:14, 4:8, 5:4, 6:2.5, 7:1} #recode to quantitative variable\n",
    "sub2['BEER_FEQMO'] = sub2['S2AQ5B'].map(recode2)\n",
    "\n",
    "recode_beer_feq_m = sub2['BEER_FEQMO'].value_counts(sort=False) #get count in each category\n",
    "print ('counts for BEER_FEQMO')\n",
    "print(recode_beer_feq_m)"
   ]
  },
  {
   "cell_type": "markdown",
   "metadata": {},
   "source": [
    "# Use sub2\n",
    "# Create secondary variable NUMBEERMO_EST\n",
    "# NUMBEERMO_EST = BEER_FEQMO * S2AQ5D "
   ]
  },
  {
   "cell_type": "code",
   "execution_count": null,
   "metadata": {},
   "outputs": [],
   "source": [
    "# hint lecture cell 17\n",
    "sub2['NUMBEERMO_EST']= #get the number of beers consumed  per month\n",
    "sub2['NUMBEERMO_EST'].head()"
   ]
  },
  {
   "cell_type": "markdown",
   "metadata": {},
   "source": [
    "# print the count for age"
   ]
  },
  {
   "cell_type": "code",
   "execution_count": null,
   "metadata": {},
   "outputs": [],
   "source": [
    "#examining frequency distributions for age\n",
    "c_age = sub2['AGE'].value_counts(sort=False)\n",
    "print ('counts for AGE')\n",
    "print(c_age)"
   ]
  },
  {
   "cell_type": "markdown",
   "metadata": {},
   "source": [
    "# use sub2\n",
    "# print percentag for age"
   ]
  },
  {
   "cell_type": "code",
   "execution_count": null,
   "metadata": {},
   "outputs": [],
   "source": [
    "# hint lecture cell 19\n",
    "p_age = sub2['AGE'].value_counts(sort=False, normalize=False)\n",
    "print ('percentages for AGE')\n",
    "print (p_age)"
   ]
  },
  {
   "cell_type": "markdown",
   "metadata": {},
   "source": [
    "# Group age into 3 groups\n",
    "# 26 - 33\n",
    "# 34 - 41\n",
    "# 42 - 50"
   ]
  },
  {
   "cell_type": "code",
   "execution_count": null,
   "metadata": {},
   "outputs": [],
   "source": [
    "# hint lecture cell 20\n",
    "# splits into 3 groups (26-50) - remember that Python starts counting from 0, not 1\n",
    "sub2['AGEGROUP3'] = pd.cut(sub2.AGE, [25,33,41,51])"
   ]
  },
  {
   "cell_type": "markdown",
   "metadata": {},
   "source": [
    "# print the count of this new group"
   ]
  },
  {
   "cell_type": "code",
   "execution_count": null,
   "metadata": {},
   "outputs": [],
   "source": [
    "# hint lecture cell 20\n",
    "c_age_group = sub2['AGEGROUP3'].value_counts(sort=False, dropna= True)\n",
    "print('counts for AGEGROUP3')\n",
    "print(c_age_group)"
   ]
  },
  {
   "cell_type": "markdown",
   "metadata": {},
   "source": [
    "# print the percentage of this new group"
   ]
  },
  {
   "cell_type": "code",
   "execution_count": null,
   "metadata": {},
   "outputs": [],
   "source": [
    "# hint lecture cell 20\n",
    "print('percentages for AGEGROUP3')\n",
    "p_age_group = sub2['AGEGROUP3'].value_counts(sort=False, normalize=True)\n",
    "print(p_age_group)"
   ]
  },
  {
   "cell_type": "markdown",
   "metadata": {},
   "source": [
    "# Print the crosstab between AGEGROUP3 and AGE"
   ]
  },
  {
   "cell_type": "code",
   "execution_count": null,
   "metadata": {},
   "outputs": [],
   "source": [
    "# hint lecture cell 21\n",
    "#crosstabs evaluating which ages were put into which AGEGROUP3\n",
    "print(pd.crosstab(sub2['AGEGROUP3'], sub2['AGE']))"
   ]
  },
  {
   "cell_type": "code",
   "execution_count": null,
   "metadata": {},
   "outputs": [],
   "source": []
  }
 ],
 "metadata": {
  "kernelspec": {
   "display_name": "Python 3",
   "language": "python",
   "name": "python3"
  },
  "language_info": {
   "codemirror_mode": {
    "name": "ipython",
    "version": 3
   },
   "file_extension": ".py",
   "mimetype": "text/x-python",
   "name": "python",
   "nbconvert_exporter": "python",
   "pygments_lexer": "ipython3",
   "version": "3.8.3"
  }
 },
 "nbformat": 4,
 "nbformat_minor": 4
}
