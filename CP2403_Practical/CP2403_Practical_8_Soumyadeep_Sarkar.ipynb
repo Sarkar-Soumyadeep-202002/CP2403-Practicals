{
 "cells": [
  {
   "cell_type": "markdown",
   "metadata": {},
   "source": [
    "# First Name: \n",
    "# Last Name:"
   ]
  },
  {
   "cell_type": "code",
   "execution_count": null,
   "metadata": {
    "collapsed": true,
    "jupyter": {
     "outputs_hidden": true
    }
   },
   "outputs": [],
   "source": [
    "import pandas as pd\n",
    "import numpy as np\n",
    "import seaborn as sns\n",
    "import matplotlib.pyplot as plt\n",
    "import statsmodels.formula.api as smf"
   ]
  },
  {
   "cell_type": "code",
   "execution_count": null,
   "metadata": {},
   "outputs": [],
   "source": [
    "pd.set_option('display.float_format', lambda x:'%.2f'%x)\n",
    "\n",
    "gapminder = pd.read_csv('gapminder.csv', low_memory=False) # Read data from the CSV file.\n",
    "gapminder.head()"
   ]
  },
  {
   "cell_type": "code",
   "execution_count": null,
   "metadata": {
    "collapsed": true,
    "jupyter": {
     "outputs_hidden": true
    }
   },
   "outputs": [],
   "source": [
    "gapminder['oilperperson'] = pd.to_numeric(gapminder['oilperperson'],errors='coerce')\n",
    "gapminder['relectricperperson'] = pd.to_numeric(gapminder['relectricperperson'],errors='coerce')\n",
    "gapminder['co2emissions'] = pd.to_numeric(gapminder['co2emissions'],errors='coerce')"
   ]
  },
  {
   "cell_type": "markdown",
   "metadata": {},
   "source": [
    "# Scenario 1 - Linear & Multiple"
   ]
  },
  {
   "cell_type": "markdown",
   "metadata": {},
   "source": [
    "# sub1 "
   ]
  },
  {
   "cell_type": "code",
   "execution_count": null,
   "metadata": {},
   "outputs": [],
   "source": [
    "sub1 = gapminder[['oilperperson', 'relectricperperson', 'co2emissions']].dropna()\n",
    "sub1.head()"
   ]
  },
  {
   "cell_type": "markdown",
   "metadata": {},
   "source": [
    "# Centre oilperperson, relectricperperson and co2emissions\n",
    "# use sub1"
   ]
  },
  {
   "cell_type": "code",
   "execution_count": null,
   "metadata": {},
   "outputs": [],
   "source": [
    "# hint lecture cell 5\n",
    "# center quantitative variables for regression analysis\n",
    "sub1['oilperperson_c'] = (sub1['oilperperson'] - sub1['oilperperson'].mean())\n",
    "sub1['relectricperperson_c'] = (sub1['relectricperperson'] - sub1['relectricperperson'].mean())\n",
    "sub1['co2emissions_c'] = (sub1['co2emissions'] - sub1['co2emissions'].mean())\n",
    "\n",
    "sub1.head()"
   ]
  },
  {
   "cell_type": "markdown",
   "metadata": {},
   "source": [
    "# Multi variable linear regression \n",
    "# predict co2emission(y) using relectricperperson(x1) and oilperperson(x2)\n",
    "# use sub1"
   ]
  },
  {
   "cell_type": "code",
   "execution_count": null,
   "metadata": {},
   "outputs": [],
   "source": [
    "# hint lecture cell 6\n",
    "reg1 = smf.ols('co2emissions_c ~ relectricperperson_c + oiplperperson_c', data=sub1).fit()\n",
    "print (reg1.summary())"
   ]
  },
  {
   "cell_type": "markdown",
   "metadata": {},
   "source": [
    "# Scenario 2 - Linear\n",
    "# sub2"
   ]
  },
  {
   "cell_type": "code",
   "execution_count": null,
   "metadata": {},
   "outputs": [],
   "source": [
    "# convert to numeric format\n",
    "gapminder['employrate'] = pd.to_numeric(gapminder['employrate'], errors='coerce')\n",
    "sub2 = gapminder[['relectricperperson', 'employrate']].dropna()\n",
    "sub2.head()"
   ]
  },
  {
   "cell_type": "markdown",
   "metadata": {},
   "source": [
    "# scatter plot to show relationship between employment rate (x) and electricity use per person (y)"
   ]
  },
  {
   "cell_type": "code",
   "execution_count": null,
   "metadata": {},
   "outputs": [],
   "source": [
    "# hint lecture cell 8\n",
    "%matplotlib inline\n",
    "plt.figure()\n",
    "scat1 = sns.regplot(x=\"relectricperperson\", y=\"employrate\", fit_reg=True, data=sub2)\n",
    "\n",
    "plt.xlabel('Electricity Use Per Person') # Name the x-axis of the plot.\n",
    "plt.ylabel('Employment Rate') # Name the y-axis of the plot."
   ]
  },
  {
   "cell_type": "markdown",
   "metadata": {},
   "source": [
    "# Centre relectricperperson and employrate\n",
    "# use sub2"
   ]
  },
  {
   "cell_type": "code",
   "execution_count": null,
   "metadata": {},
   "outputs": [],
   "source": [
    "# hint lecture cell 9\n",
    "sub2['relectricperperson_c'] = (sub2['relectricperperson'] - sub2['relectricperperson'].mean())\n",
    "sub2['employrate_c'] = (sub2['employrate'] - sub2['employrate'].mean())\n",
    "\n",
    "sub2.head()"
   ]
  },
  {
   "cell_type": "markdown",
   "metadata": {},
   "source": [
    "# Linear regression between relectricperperson (x) and employrate (y)\n",
    "# use sub2"
   ]
  },
  {
   "cell_type": "code",
   "execution_count": null,
   "metadata": {},
   "outputs": [],
   "source": [
    "# hint lecture cell 10\n",
    "reg2 = smf.ols('employrate_c ~ relectricperperson_c', data=sub2).fit()\n",
    "print (reg2.summary())"
   ]
  },
  {
   "cell_type": "markdown",
   "metadata": {},
   "source": [
    "# Scenario 3 - Polynomial"
   ]
  },
  {
   "cell_type": "markdown",
   "metadata": {},
   "source": [
    "# scatter plot to show polynomial (order 2) relationship between employment rate (x) and electricity use per person (y)"
   ]
  },
  {
   "cell_type": "code",
   "execution_count": null,
   "metadata": {},
   "outputs": [],
   "source": [
    "# hint lecture cell 11\n",
    "#fit second order polynomial\n",
    "# run the 2 scatterplots together to get second order fit lines\n",
    "plt.figure()\n",
    "scat1 = sns.regplot(x='relectricperperson_c', y='employrate_c', order=2, data=sub2)\n",
    "plt.xlabel('Electricity Use Per Person') # Name the x-axis of the plot.\n",
    "plt.ylabel('Employment Rate') # Name the y-axis of the plot."
   ]
  },
  {
   "cell_type": "markdown",
   "metadata": {},
   "source": [
    "# Polynomial regression between relectricperperson (x - order 2) and employrate (y)\n",
    "# use sub2"
   ]
  },
  {
   "cell_type": "code",
   "execution_count": null,
   "metadata": {},
   "outputs": [],
   "source": [
    "# hint lecture cell 12\n",
    "reg2 = smf.ols('employrate_c ~ I(relectricperperson_c**2)', data=sub2).fit()\n",
    "print (reg2.summary())"
   ]
  },
  {
   "cell_type": "markdown",
   "metadata": {},
   "source": [
    "# Scenario 4 - Multiple & poly\n",
    "# sub3"
   ]
  },
  {
   "cell_type": "code",
   "execution_count": null,
   "metadata": {},
   "outputs": [],
   "source": [
    "sub3 = gapminder[['oilperperson', 'relectricperperson', 'co2emissions','employrate']].dropna()\n",
    "sub3.head()"
   ]
  },
  {
   "cell_type": "markdown",
   "metadata": {},
   "source": [
    "# Centre employrate, oilperperson, relectricperperson and co2emissions\n",
    "# use sub3"
   ]
  },
  {
   "cell_type": "code",
   "execution_count": null,
   "metadata": {
    "collapsed": true,
    "jupyter": {
     "outputs_hidden": true
    }
   },
   "outputs": [],
   "source": [
    "# hint lecture cell 14\n",
    "sub3['employrate_c'] = (sub3['employrate'] - sub3['employrate'].mean())\n",
    "sub3['oilperperson_c'] = (sub3['oilperperson'] - sub3['oilperperson'].mean())\n",
    "sub3['relectricperperson_c'] = (sub3['relectricperperson_c'] - sub3['relectricperperson_c'].mean())\n",
    "sub3['co2emissions_c'] = (sub3['co2emissions_c'] - sub3['co2emissions_c'].mean())"
   ]
  },
  {
   "cell_type": "markdown",
   "metadata": {},
   "source": [
    "# Multiple and polynomial regression between oilperperson(x1) + co2emissions(x2)  relectricperperson (x3 - order 2) and employrate (y)\n",
    "# use sub3"
   ]
  },
  {
   "cell_type": "code",
   "execution_count": null,
   "metadata": {},
   "outputs": [],
   "source": [
    "# hint lecture cell 15\n",
    "reg3 = smf.ols('employrate_c ~ oilperperson_c + co2emissions_c +I(relectricperperson_c**2)')\n",
    "print (reg3.summary())"
   ]
  },
  {
   "cell_type": "markdown",
   "metadata": {},
   "source": [
    "# Evaluating model"
   ]
  },
  {
   "cell_type": "markdown",
   "metadata": {},
   "source": [
    "# Plot qqplot for the above regression (reg3)"
   ]
  },
  {
   "cell_type": "code",
   "execution_count": null,
   "metadata": {},
   "outputs": [],
   "source": [
    "# hint lecture cell 16\n",
    "import statsmodels.api as sm\n",
    "fig4= sm.qqplot(reg3.resid, line='r')"
   ]
  },
  {
   "cell_type": "markdown",
   "metadata": {},
   "source": [
    "# Residual plot for the above regression (reg3)"
   ]
  },
  {
   "cell_type": "code",
   "execution_count": null,
   "metadata": {
    "scrolled": true
   },
   "outputs": [],
   "source": [
    "# hint lecture cell 17\n",
    "# simple plot of residuals\n",
    "stdres=pd.DataFrame(reg3)\n",
    "\n",
    "plt.figure() # Create the plot.\n",
    "plt.plot(stdres, 'o', ls='None')\n",
    "l = plt.axhline(y=0, color='r')\n",
    "plt.ylabel('Standardized Residual') # Name the y-axis of the plot.\n",
    "plt.xlabel('Observation Number') # Name the x-axis of the plot."
   ]
  },
  {
   "cell_type": "markdown",
   "metadata": {},
   "source": [
    "# Calculate percentage of observations over 2 standardized deviation "
   ]
  },
  {
   "cell_type": "code",
   "execution_count": null,
   "metadata": {},
   "outputs": [],
   "source": [
    "# hint lecture cell 18\n",
    "percentage_over2sd = (np.count_nonzero(stdres[0] > 2) + np.count_nonzero(stdres[0] < -2))\n",
    "print (percentage_over2sd)"
   ]
  },
  {
   "cell_type": "markdown",
   "metadata": {},
   "source": [
    "# Calculate percentage of observations over 2.5 standardized deviation "
   ]
  },
  {
   "cell_type": "code",
   "execution_count": null,
   "metadata": {},
   "outputs": [],
   "source": [
    "# hint lecture cell 19\n",
    "percentage_over2_5sd = (np.count_nonzero(stdres[0] > 2.5) + np.count_nonzero(stdres[0] < -2.5))\n",
    "print (percentage_over2_5sd)"
   ]
  },
  {
   "cell_type": "markdown",
   "metadata": {},
   "source": [
    "# On your own \n",
    "\n",
    "# experiment with explanatory variable (oilperperson, co2emissions, relectricperperson) and their order  to predict employrate\n",
    "\n",
    "# use sub3"
   ]
  },
  {
   "cell_type": "code",
   "execution_count": null,
   "metadata": {},
   "outputs": [],
   "source": [
    "# hint lecture cell 15\n",
    "reg4 = smf.ols('employrate_c ~ oilperperson_c + I(co2emissions_c**2) + I(relectricperperson)')\n",
    "print (reg4.summary())"
   ]
  },
  {
   "cell_type": "markdown",
   "metadata": {},
   "source": [
    "# Evaluate your model\n",
    "# Use qqplot"
   ]
  },
  {
   "cell_type": "code",
   "execution_count": null,
   "metadata": {},
   "outputs": [],
   "source": [
    "# hint lecture cell 16\n",
    "import statsmodels.api as sm\n",
    "fig5=sm.qqplot(reg4.resid, line='r')"
   ]
  },
  {
   "cell_type": "markdown",
   "metadata": {},
   "source": [
    "# Evaluate your model\n",
    "# Use residual plot "
   ]
  },
  {
   "cell_type": "code",
   "execution_count": null,
   "metadata": {},
   "outputs": [],
   "source": [
    "# hint lecture cell 17\n",
    "# simple plot of residuals\n",
    "stdres=pd.DataFrame(reg4.resid_pearson)\n",
    "\n",
    "plt.figure() # Create the plot. \n",
    "plt.plot(stdres, 'o', ls='None')\n",
    "l = plt.axhline(y=0, color='r')\n",
    "plt.ylabel('Standardized Residual') # Name the y-axis of the plot.\n",
    "plt.xlabel('Observation Number') # Name the x-axis of the plot."
   ]
  },
  {
   "cell_type": "markdown",
   "metadata": {},
   "source": [
    "# Calculate percentage of observations over 2 standardized deviation "
   ]
  },
  {
   "cell_type": "code",
   "execution_count": null,
   "metadata": {},
   "outputs": [],
   "source": [
    "# hint lecture cell 18\n",
    "percentage_over2sd = (np.count_nonzero(stdres[0] > 2) + np.count_nonzero(stdres[0] < -2))\n",
    "print (percentage_over2sd)"
   ]
  },
  {
   "cell_type": "markdown",
   "metadata": {},
   "source": [
    "# Calculate percentage of observations over 2.5 standardized deviation "
   ]
  },
  {
   "cell_type": "code",
   "execution_count": null,
   "metadata": {},
   "outputs": [],
   "source": [
    "# hint lecture cell 19\n",
    "percentage_over2_5sd = (np.count_nonzero(stdres[0] > 2.5) + np.count_nonzero(stdres[0] < -2.5))\n",
    "print (percentage_over2_5sd)"
   ]
  }
 ],
 "metadata": {
  "kernelspec": {
   "display_name": "Python 3",
   "language": "python",
   "name": "python3"
  },
  "language_info": {
   "codemirror_mode": {
    "name": "ipython",
    "version": 3
   },
   "file_extension": ".py",
   "mimetype": "text/x-python",
   "name": "python",
   "nbconvert_exporter": "python",
   "pygments_lexer": "ipython3",
   "version": "3.8.3"
  }
 },
 "nbformat": 4,
 "nbformat_minor": 4
}
