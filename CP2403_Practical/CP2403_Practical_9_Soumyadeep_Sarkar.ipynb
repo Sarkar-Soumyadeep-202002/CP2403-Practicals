{
 "cells": [
  {
   "cell_type": "markdown",
   "metadata": {},
   "source": [
    "# First Name: Soumyadeep\n",
    "# Last Name: Sarkar"
   ]
  },
  {
   "cell_type": "markdown",
   "metadata": {},
   "source": [
    "# Import Libraries"
   ]
  },
  {
   "cell_type": "code",
   "execution_count": null,
   "metadata": {},
   "outputs": [],
   "source": [
    "import numpy as np\n",
    "import pandas as pd\n",
    "import seaborn as sns\n",
    "import matplotlib.pyplot as plt\n",
    "import statsmodels.formula.api as smf "
   ]
  },
  {
   "cell_type": "markdown",
   "metadata": {},
   "source": [
    "# Read in data"
   ]
  },
  {
   "cell_type": "code",
   "execution_count": null,
   "metadata": {
    "collapsed": true,
    "jupyter": {
     "outputs_hidden": true
    }
   },
   "outputs": [],
   "source": [
    "nesarc = pd.read_csv('nesarc - large.csv', low_memory=False) # Read the data from the CSV file.\n",
    "pd.set_option('display.float_format', lambda x:'%f'%x)"
   ]
  },
  {
   "cell_type": "code",
   "execution_count": null,
   "metadata": {
    "collapsed": true,
    "jupyter": {
     "outputs_hidden": true
    }
   },
   "outputs": [],
   "source": [
    "nesarc['S2AQ5B'] = pd.to_numeric(nesarc['S2AQ5B'], errors='coerce') #convert variable to numeric\n",
    "nesarc['S2AQ5D'] = pd.to_numeric(nesarc['S2AQ5D'], errors='coerce') #convert variable to numeric\n",
    "nesarc['S2AQ5A'] = pd.to_numeric(nesarc['S2AQ5A'], errors='coerce') #convert variable to numeric\n",
    "nesarc['S2BQ1B1'] = pd.to_numeric(nesarc['S2BQ1B1'], errors='coerce') #convert variable to numeric\n",
    "nesarc['AGE'] = pd.to_numeric(nesarc['AGE'], errors='coerce') #convert variable to numeric"
   ]
  },
  {
   "cell_type": "code",
   "execution_count": null,
   "metadata": {
    "collapsed": true,
    "jupyter": {
     "outputs_hidden": true
    }
   },
   "outputs": [],
   "source": [
    "sub1=nesarc[(nesarc['AGE']>=26) & (nesarc['AGE']<=50) & (nesarc['S2AQ5A']==1)]\n",
    "sub2=sub1.copy()"
   ]
  },
  {
   "cell_type": "code",
   "execution_count": null,
   "metadata": {
    "collapsed": true,
    "jupyter": {
     "outputs_hidden": true
    }
   },
   "outputs": [],
   "source": [
    "sub2['S2AQ5D']=sub2['S2AQ5D'].replace(99, np.nan)\n",
    "\n",
    "sub2['S2AQ5B']=sub2['S2AQ5B'].replace(8, np.nan) # Replacing values.\n",
    "sub2['S2AQ5B']=sub2['S2AQ5B'].replace(9, np.nan)\n",
    "sub2['S2AQ5B']=sub2['S2AQ5B'].replace(10, np.nan)\n",
    "sub2['S2AQ5B']=sub2['S2AQ5B'].replace(99, np.nan)\n",
    "\n",
    "sub2['S2BQ1B1']=sub2['S2BQ1B1'].replace(9, np.nan)"
   ]
  },
  {
   "cell_type": "code",
   "execution_count": null,
   "metadata": {
    "collapsed": true,
    "jupyter": {
     "outputs_hidden": true
    }
   },
   "outputs": [],
   "source": [
    "recode2 = {1:30, 2:26, 3:14, 4:8, 5:4, 6:2.5, 7:1}\n",
    "sub2['BEER_FEQMO']= sub2['S2AQ5B'].map(recode2)\n",
    "\n",
    "recode3 = {2:0, 1:1}\n",
    "sub2['S2BQ1B1']= sub2['S2BQ1B1'].map(recode3)"
   ]
  },
  {
   "cell_type": "code",
   "execution_count": null,
   "metadata": {
    "collapsed": true,
    "jupyter": {
     "outputs_hidden": true
    }
   },
   "outputs": [],
   "source": [
    "#secondary variable \n",
    "sub2['NUMBEERMO_EST']=sub2['BEER_FEQMO'] * sub2['S2AQ5D'] "
   ]
  },
  {
   "cell_type": "markdown",
   "metadata": {},
   "source": [
    "# Scenario 1"
   ]
  },
  {
   "cell_type": "markdown",
   "metadata": {},
   "source": [
    "# Perform Regression analysis between \n",
    "# Beer dependency (S2BQ1B1 -  Categorical Explanatory variable ) and \n",
    "# number of beers consumed in a month (NUMBEERMO_EST - Quantitative Response variable)\n",
    "# use sub2"
   ]
  },
  {
   "cell_type": "code",
   "execution_count": null,
   "metadata": {
    "collapsed": true,
    "jupyter": {
     "outputs_hidden": true
    }
   },
   "outputs": [],
   "source": [
    "# hint cell 9\n",
    "reg1 = smf.ols('NUMBEERO_EST ~ S2BQ1B1')\n",
    "print (reg1.summary())"
   ]
  },
  {
   "cell_type": "markdown",
   "metadata": {},
   "source": [
    "# Get the mean and Standard deviation of number of beers consumed (NUMBEERMO_EST), grouped by beer dependency (S2BQ1B1). use sub3"
   ]
  },
  {
   "cell_type": "code",
   "execution_count": null,
   "metadata": {
    "collapsed": true,
    "jupyter": {
     "outputs_hidden": true
    }
   },
   "outputs": [],
   "source": [
    "# hint cell 11\n",
    "sub3 = sub2[['NUMBEERMO_EST', 'S2BQ1B1']].dropna()\n",
    "\n",
    "# group means & sd\n",
    "print (\"Mean\")\n",
    "ds1 = sub3.groupby('S2BQ1B1')\n",
    "print (ds1)\n",
    "\n",
    "print (\"Standard deviation\")\n",
    "ds2 = sub3.groupby('S2BQ1B1')\n",
    "print (ds2)"
   ]
  },
  {
   "cell_type": "markdown",
   "metadata": {},
   "source": [
    "# Plot bar chart to show relations between number of beers consumed (NUMBEERMO_EST) and beer dependency (S2BQ1B1). use sub3"
   ]
  },
  {
   "cell_type": "code",
   "execution_count": null,
   "metadata": {
    "collapsed": true,
    "jupyter": {
     "outputs_hidden": true
    }
   },
   "outputs": [],
   "source": [
    "# hint cell 12\n",
    "%matplotlib inline\n",
    "\n",
    "plt.xlabel('Beer Dependence')\n",
    "plt.ylabel('Mean Number of Beers consumed')"
   ]
  },
  {
   "cell_type": "markdown",
   "metadata": {},
   "source": [
    "# Logistical Regression - Scenario 2"
   ]
  },
  {
   "cell_type": "markdown",
   "metadata": {},
   "source": [
    "# Perform Logistical Regression analysis between beer dependency (y=S2BQ1B1)  and general anxiety (x=GENAXLIFE). Use sub2"
   ]
  },
  {
   "cell_type": "code",
   "execution_count": null,
   "metadata": {
    "collapsed": true,
    "jupyter": {
     "outputs_hidden": true
    }
   },
   "outputs": [],
   "source": [
    "# hint cell 15\n",
    "lreg1 = smf.logit(formula='S2BQ1B1 ~ GENAXLIFE', data=sub2).fit()\n",
    "print (lreg1.summary())"
   ]
  },
  {
   "cell_type": "code",
   "execution_count": null,
   "metadata": {
    "collapsed": true,
    "jupyter": {
     "outputs_hidden": true
    }
   },
   "outputs": [],
   "source": [
    "params = lreg1.params\n",
    "conf = lreg1.conf_int()\n",
    "conf['OR'] = params\n",
    "conf.columns = ['Lower CI', 'Upper CI', 'OR']\n",
    "print (np.exp(conf))"
   ]
  },
  {
   "cell_type": "markdown",
   "metadata": {},
   "source": [
    "# Logistical Regression - Scenario 3"
   ]
  },
  {
   "cell_type": "code",
   "execution_count": null,
   "metadata": {
    "collapsed": true,
    "jupyter": {
     "outputs_hidden": true
    }
   },
   "outputs": [],
   "source": [
    "sub2['DYSLIFE'] = pd.to_numeric(sub2['DYSLIFE'], errors='coerce')"
   ]
  },
  {
   "cell_type": "markdown",
   "metadata": {},
   "source": [
    "# Perform Logistical Regression analysis between beer dependency (y=S2BQ1B1)  and general anxiety (x1=GENAXLIFE) and minor depression (x2=DYSLIFE). Use sub2"
   ]
  },
  {
   "cell_type": "code",
   "execution_count": null,
   "metadata": {
    "collapsed": true,
    "jupyter": {
     "outputs_hidden": true
    }
   },
   "outputs": [],
   "source": [
    "# hint cell 18\n",
    "lreg2 = smf.logit(formula = 'S2BQ1B1 ~ GENAXLIFE + DYSLIFE', data=sub2).fit()\n",
    "print (lreg2.summary())"
   ]
  },
  {
   "cell_type": "code",
   "execution_count": null,
   "metadata": {
    "collapsed": true,
    "jupyter": {
     "outputs_hidden": true
    }
   },
   "outputs": [],
   "source": [
    "# odd ratios with 95% confidence intervals\n",
    "params = lreg2.params\n",
    "conf = lreg2.conf_int()\n",
    "conf['OR'] = params\n",
    "conf.columns = ['Lower CI', 'Upper CI', 'OR']\n",
    "print (np.exp(conf))"
   ]
  },
  {
   "cell_type": "markdown",
   "metadata": {},
   "source": [
    "# Logistical Regression - Scenario 4"
   ]
  },
  {
   "cell_type": "code",
   "execution_count": null,
   "metadata": {
    "collapsed": true,
    "jupyter": {
     "outputs_hidden": true
    }
   },
   "outputs": [],
   "source": [
    "def PANIC (x1):\n",
    "    if ((x1['S6Q1']==1 and x1['S6Q2']==1) or (x1['S6Q2']==1 and x1['S6Q3']==1) or \n",
    "    (x1['S6Q3']==1 and x1['S6Q61']==1) or (x1['S6Q61']==1 and x1['S6Q62']==1) or \n",
    "    (x1['S6Q62']==1 and x1['S6Q63']==1) or (x1['S6Q63']==1 and x1['S6Q64']==1) or \n",
    "    (x1['S6Q64']==1 and x1['S6Q65']==1) or (x1['S6Q65']==1 and x1['S6Q66']==1) or \n",
    "    (x1['S6Q66']==1 and x1['S6Q67']==1) or (x1['S6Q67']==1 and x1['S6Q68']==1) or \n",
    "    (x1['S6Q68']==1 and x1['S6Q69']==1) or (x1['S6Q69']==1 and x1['S6Q610']==1) or \n",
    "    (x1['S6Q610']==1 and x1['S6Q611']==1) or (x1['S6Q611']==1 and x1['S6Q612']==1) or \n",
    "    (x1['S6Q612']==1 and x1['S6Q613']==1) or (x1['S6Q613']==1 and x1['S6Q7']==1) or \n",
    "    x1['S6Q7']==1):\n",
    "        return 1\n",
    "    else:\n",
    "        return 0\n",
    "sub2['PANIC'] = sub1.apply (lambda x1: PANIC (x1), axis=1)\n",
    "c7 = sub2[\"PANIC\"].value_counts(sort=False, dropna=False)\n",
    "print(c7)"
   ]
  },
  {
   "cell_type": "markdown",
   "metadata": {},
   "source": [
    "# Perform Logistical Regression analysis between beer dependency (y=S2BQ1B1)  and panic disorder (x=PANIC). Use sub2"
   ]
  },
  {
   "cell_type": "code",
   "execution_count": null,
   "metadata": {
    "collapsed": true,
    "jupyter": {
     "outputs_hidden": true
    }
   },
   "outputs": [],
   "source": [
    "# hint cell 21\n",
    "# logistic regression with panic\n",
    "lreg3 = smf.logit(formula = 'S2BQ1B1 ~ PANIC', data=sub2).fit()\n",
    "print (lreg3.summary())"
   ]
  },
  {
   "cell_type": "code",
   "execution_count": null,
   "metadata": {
    "collapsed": true,
    "jupyter": {
     "outputs_hidden": true
    }
   },
   "outputs": [],
   "source": [
    "# odd ratios with 95% confidence intervals\n",
    "print (\"Odds Ratios\")\n",
    "params = lreg3.params\n",
    "conf = lreg3.conf_int()\n",
    "conf['OR'] = params\n",
    "conf.columns = ['Lower CI', 'Upper CI', 'OR']\n",
    "print (np.exp(conf))"
   ]
  },
  {
   "cell_type": "markdown",
   "metadata": {},
   "source": [
    "# Logistical Regression - Scenario 5"
   ]
  },
  {
   "cell_type": "markdown",
   "metadata": {},
   "source": [
    "# Perform Logistical Regression analysis between beer dependency (y=S2BQ1B1)  and panic disorder (x1=PANIC) and minor depression (x2=DYSLIFE). Use sub2"
   ]
  },
  {
   "cell_type": "code",
   "execution_count": null,
   "metadata": {
    "collapsed": true,
    "jupyter": {
     "outputs_hidden": true
    }
   },
   "outputs": [],
   "source": [
    "# hint cell 23\n",
    "# logistic regression with panic and depression\n",
    "lreg4 = smf.logit(formula = 'S2BQ1B1 ~ PANIC + DYSLIFE', data = sub2).fit()\n",
    "print (lreg4.summary())"
   ]
  },
  {
   "cell_type": "code",
   "execution_count": null,
   "metadata": {
    "collapsed": true,
    "jupyter": {
     "outputs_hidden": true
    }
   },
   "outputs": [],
   "source": [
    "# odd ratios with 95% confidence intervals\n",
    "print (\"Odds Ratios\")\n",
    "params = lreg4.params\n",
    "conf = lreg4.conf_int()\n",
    "conf['OR'] = params\n",
    "conf.columns = ['Lower CI', 'Upper CI', 'OR']\n",
    "print (np.exp(conf))"
   ]
  }
 ],
 "metadata": {
  "kernelspec": {
   "display_name": "Python 3",
   "language": "python",
   "name": "python3"
  },
  "language_info": {
   "codemirror_mode": {
    "name": "ipython",
    "version": 3
   },
   "file_extension": ".py",
   "mimetype": "text/x-python",
   "name": "python",
   "nbconvert_exporter": "python",
   "pygments_lexer": "ipython3",
   "version": "3.8.3"
  }
 },
 "nbformat": 4,
 "nbformat_minor": 4
}
